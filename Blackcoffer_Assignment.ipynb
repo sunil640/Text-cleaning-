{
 "cells": [
  {
   "cell_type": "code",
   "execution_count": 647,
   "metadata": {},
   "outputs": [],
   "source": [
    "# import libraries\n",
    "import pandas as pd\n",
    "from bs4 import BeautifulSoup\n",
    "from selenium import webdriver\n",
    "\n",
    "URL= pd.DataFrame(pd.read_excel(r'C:\\Users\\SUNIL\\Downloads\\Compressed\\IT projects\\drive-download-20230216T063319Z-001\\Input.xlsx'))"
   ]
  },
  {
   "cell_type": "code",
   "execution_count": 648,
   "metadata": {},
   "outputs": [
    {
     "data": {
      "text/html": [
       "<div>\n",
       "<style scoped>\n",
       "    .dataframe tbody tr th:only-of-type {\n",
       "        vertical-align: middle;\n",
       "    }\n",
       "\n",
       "    .dataframe tbody tr th {\n",
       "        vertical-align: top;\n",
       "    }\n",
       "\n",
       "    .dataframe thead th {\n",
       "        text-align: right;\n",
       "    }\n",
       "</style>\n",
       "<table border=\"1\" class=\"dataframe\">\n",
       "  <thead>\n",
       "    <tr style=\"text-align: right;\">\n",
       "      <th></th>\n",
       "      <th>URL_ID</th>\n",
       "      <th>URL</th>\n",
       "    </tr>\n",
       "  </thead>\n",
       "  <tbody>\n",
       "    <tr>\n",
       "      <th>0</th>\n",
       "      <td>37.0</td>\n",
       "      <td>https://insights.blackcoffer.com/ai-in-healthc...</td>\n",
       "    </tr>\n",
       "    <tr>\n",
       "      <th>1</th>\n",
       "      <td>38.0</td>\n",
       "      <td>https://insights.blackcoffer.com/what-if-the-c...</td>\n",
       "    </tr>\n",
       "    <tr>\n",
       "      <th>2</th>\n",
       "      <td>39.0</td>\n",
       "      <td>https://insights.blackcoffer.com/what-jobs-wil...</td>\n",
       "    </tr>\n",
       "    <tr>\n",
       "      <th>3</th>\n",
       "      <td>40.0</td>\n",
       "      <td>https://insights.blackcoffer.com/will-machine-...</td>\n",
       "    </tr>\n",
       "    <tr>\n",
       "      <th>4</th>\n",
       "      <td>41.0</td>\n",
       "      <td>https://insights.blackcoffer.com/will-ai-repla...</td>\n",
       "    </tr>\n",
       "  </tbody>\n",
       "</table>\n",
       "</div>"
      ],
      "text/plain": [
       "   URL_ID                                                URL\n",
       "0    37.0  https://insights.blackcoffer.com/ai-in-healthc...\n",
       "1    38.0  https://insights.blackcoffer.com/what-if-the-c...\n",
       "2    39.0  https://insights.blackcoffer.com/what-jobs-wil...\n",
       "3    40.0  https://insights.blackcoffer.com/will-machine-...\n",
       "4    41.0  https://insights.blackcoffer.com/will-ai-repla..."
      ]
     },
     "execution_count": 648,
     "metadata": {},
     "output_type": "execute_result"
    }
   ],
   "source": [
    "URL.head()"
   ]
  },
  {
   "cell_type": "code",
   "execution_count": 649,
   "metadata": {},
   "outputs": [],
   "source": [
    "# for i in data['URL']:\n",
    "#     print(i)"
   ]
  },
  {
   "cell_type": "code",
   "execution_count": 650,
   "metadata": {},
   "outputs": [],
   "source": [
    "# driver = webdriver.Chrome(\"/usr/lib/chromium-browser/chromedriver\")"
   ]
  },
  {
   "cell_type": "code",
   "execution_count": 651,
   "metadata": {},
   "outputs": [],
   "source": [
    "# import requests\n",
    "# title=[]\n",
    "# text=[]\n",
    "# k=0\n",
    "# for i in data[\"URL\"]:\n",
    "#     response = requests.get(i)\n",
    "#     if response.status_code == 404:\n",
    "#         title.append(\"site not found\")\n",
    "#         text.append(\"site not found\")\n",
    "#         print(\"done\")\n",
    "#         pass\n",
    "\n",
    "#     else:\n",
    "#         driver.get(i)\n",
    "#         content = driver.page_source\n",
    "#         soup = BeautifulSoup(content,\"html.parser\")\n",
    "#         Title=soup.find('h1',attrs={'class':'entry-title'}).text.replace('\\n',\" \")\n",
    "#         Text=soup.find( attrs={'class':'td-post-content'}).text.replace('\\n',\" \")\n",
    "#         title.append(Title)\n",
    "#         text.append(Text)\n",
    "#         # print(i)\n",
    "#         # print(title[k])\n",
    "#         # print(text[k])\n",
    "#         # k=k+1"
   ]
  },
  {
   "cell_type": "code",
   "execution_count": 652,
   "metadata": {},
   "outputs": [],
   "source": [
    "# df=pd.DataFrame({'urlId':data['URL_ID'],'URL':data['URL'],'Title':title,'Text':text})\n",
    "# df.head(10)\n",
    "# df"
   ]
  },
  {
   "cell_type": "code",
   "execution_count": 653,
   "metadata": {},
   "outputs": [],
   "source": [
    "# df.to_csv('data.csv')"
   ]
  },
  {
   "cell_type": "code",
   "execution_count": 654,
   "metadata": {},
   "outputs": [
    {
     "data": {
      "text/html": [
       "<div>\n",
       "<style scoped>\n",
       "    .dataframe tbody tr th:only-of-type {\n",
       "        vertical-align: middle;\n",
       "    }\n",
       "\n",
       "    .dataframe tbody tr th {\n",
       "        vertical-align: top;\n",
       "    }\n",
       "\n",
       "    .dataframe thead th {\n",
       "        text-align: right;\n",
       "    }\n",
       "</style>\n",
       "<table border=\"1\" class=\"dataframe\">\n",
       "  <thead>\n",
       "    <tr style=\"text-align: right;\">\n",
       "      <th></th>\n",
       "      <th>Unnamed: 0</th>\n",
       "      <th>urlId</th>\n",
       "      <th>URL</th>\n",
       "      <th>Title</th>\n",
       "      <th>Text</th>\n",
       "    </tr>\n",
       "  </thead>\n",
       "  <tbody>\n",
       "    <tr>\n",
       "      <th>0</th>\n",
       "      <td>0</td>\n",
       "      <td>37.0</td>\n",
       "      <td>https://insights.blackcoffer.com/ai-in-healthc...</td>\n",
       "      <td>AI in healthcare to Improve Patient Outcomes</td>\n",
       "      <td>Introduction “If anything kills over 10 milli...</td>\n",
       "    </tr>\n",
       "    <tr>\n",
       "      <th>1</th>\n",
       "      <td>1</td>\n",
       "      <td>38.0</td>\n",
       "      <td>https://insights.blackcoffer.com/what-if-the-c...</td>\n",
       "      <td>What if the Creation is Taking Over the Creator?</td>\n",
       "      <td>Human minds, a fascination in itself carrying...</td>\n",
       "    </tr>\n",
       "    <tr>\n",
       "      <th>2</th>\n",
       "      <td>2</td>\n",
       "      <td>39.0</td>\n",
       "      <td>https://insights.blackcoffer.com/what-jobs-wil...</td>\n",
       "      <td>What Jobs Will Robots Take From Humans in The ...</td>\n",
       "      <td>Introduction AI is rapidly evolving in the em...</td>\n",
       "    </tr>\n",
       "    <tr>\n",
       "      <th>3</th>\n",
       "      <td>3</td>\n",
       "      <td>40.0</td>\n",
       "      <td>https://insights.blackcoffer.com/will-machine-...</td>\n",
       "      <td>Will Machine Replace The Human in the Future o...</td>\n",
       "      <td>“Anything that could give rise to smarter-tha...</td>\n",
       "    </tr>\n",
       "    <tr>\n",
       "      <th>4</th>\n",
       "      <td>4</td>\n",
       "      <td>41.0</td>\n",
       "      <td>https://insights.blackcoffer.com/will-ai-repla...</td>\n",
       "      <td>Will AI Replace Us or Work With Us?</td>\n",
       "      <td>“Machine intelligence is the last invention t...</td>\n",
       "    </tr>\n",
       "  </tbody>\n",
       "</table>\n",
       "</div>"
      ],
      "text/plain": [
       "   Unnamed: 0  urlId                                                URL  \\\n",
       "0           0   37.0  https://insights.blackcoffer.com/ai-in-healthc...   \n",
       "1           1   38.0  https://insights.blackcoffer.com/what-if-the-c...   \n",
       "2           2   39.0  https://insights.blackcoffer.com/what-jobs-wil...   \n",
       "3           3   40.0  https://insights.blackcoffer.com/will-machine-...   \n",
       "4           4   41.0  https://insights.blackcoffer.com/will-ai-repla...   \n",
       "\n",
       "                                               Title  \\\n",
       "0       AI in healthcare to Improve Patient Outcomes   \n",
       "1   What if the Creation is Taking Over the Creator?   \n",
       "2  What Jobs Will Robots Take From Humans in The ...   \n",
       "3  Will Machine Replace The Human in the Future o...   \n",
       "4                Will AI Replace Us or Work With Us?   \n",
       "\n",
       "                                                Text  \n",
       "0   Introduction “If anything kills over 10 milli...  \n",
       "1   Human minds, a fascination in itself carrying...  \n",
       "2   Introduction AI is rapidly evolving in the em...  \n",
       "3   “Anything that could give rise to smarter-tha...  \n",
       "4   “Machine intelligence is the last invention t...  "
      ]
     },
     "execution_count": 654,
     "metadata": {},
     "output_type": "execute_result"
    }
   ],
   "source": [
    "Extracted_Text=pd.read_csv('data.csv')\n",
    "Extracted_Text.head()"
   ]
  },
  {
   "cell_type": "code",
   "execution_count": 655,
   "metadata": {},
   "outputs": [
    {
     "data": {
      "text/html": [
       "<div>\n",
       "<style scoped>\n",
       "    .dataframe tbody tr th:only-of-type {\n",
       "        vertical-align: middle;\n",
       "    }\n",
       "\n",
       "    .dataframe tbody tr th {\n",
       "        vertical-align: top;\n",
       "    }\n",
       "\n",
       "    .dataframe thead th {\n",
       "        text-align: right;\n",
       "    }\n",
       "</style>\n",
       "<table border=\"1\" class=\"dataframe\">\n",
       "  <thead>\n",
       "    <tr style=\"text-align: right;\">\n",
       "      <th></th>\n",
       "      <th>Unnamed: 0</th>\n",
       "      <th>urlId</th>\n",
       "      <th>URL</th>\n",
       "      <th>Title</th>\n",
       "      <th>Text</th>\n",
       "      <th>AllText</th>\n",
       "    </tr>\n",
       "  </thead>\n",
       "  <tbody>\n",
       "    <tr>\n",
       "      <th>0</th>\n",
       "      <td>0</td>\n",
       "      <td>37.0</td>\n",
       "      <td>https://insights.blackcoffer.com/ai-in-healthc...</td>\n",
       "      <td>AI in healthcare to Improve Patient Outcomes</td>\n",
       "      <td>Introduction “If anything kills over 10 milli...</td>\n",
       "      <td>AI in healthcare to Improve Patient Outcomes  ...</td>\n",
       "    </tr>\n",
       "    <tr>\n",
       "      <th>1</th>\n",
       "      <td>1</td>\n",
       "      <td>38.0</td>\n",
       "      <td>https://insights.blackcoffer.com/what-if-the-c...</td>\n",
       "      <td>What if the Creation is Taking Over the Creator?</td>\n",
       "      <td>Human minds, a fascination in itself carrying...</td>\n",
       "      <td>What if the Creation is Taking Over the Creato...</td>\n",
       "    </tr>\n",
       "    <tr>\n",
       "      <th>2</th>\n",
       "      <td>2</td>\n",
       "      <td>39.0</td>\n",
       "      <td>https://insights.blackcoffer.com/what-jobs-wil...</td>\n",
       "      <td>What Jobs Will Robots Take From Humans in The ...</td>\n",
       "      <td>Introduction AI is rapidly evolving in the em...</td>\n",
       "      <td>What Jobs Will Robots Take From Humans in The ...</td>\n",
       "    </tr>\n",
       "    <tr>\n",
       "      <th>3</th>\n",
       "      <td>3</td>\n",
       "      <td>40.0</td>\n",
       "      <td>https://insights.blackcoffer.com/will-machine-...</td>\n",
       "      <td>Will Machine Replace The Human in the Future o...</td>\n",
       "      <td>“Anything that could give rise to smarter-tha...</td>\n",
       "      <td>Will Machine Replace The Human in the Future o...</td>\n",
       "    </tr>\n",
       "    <tr>\n",
       "      <th>4</th>\n",
       "      <td>4</td>\n",
       "      <td>41.0</td>\n",
       "      <td>https://insights.blackcoffer.com/will-ai-repla...</td>\n",
       "      <td>Will AI Replace Us or Work With Us?</td>\n",
       "      <td>“Machine intelligence is the last invention t...</td>\n",
       "      <td>Will AI Replace Us or Work With Us?  “Machine ...</td>\n",
       "    </tr>\n",
       "  </tbody>\n",
       "</table>\n",
       "</div>"
      ],
      "text/plain": [
       "   Unnamed: 0  urlId                                                URL  \\\n",
       "0           0   37.0  https://insights.blackcoffer.com/ai-in-healthc...   \n",
       "1           1   38.0  https://insights.blackcoffer.com/what-if-the-c...   \n",
       "2           2   39.0  https://insights.blackcoffer.com/what-jobs-wil...   \n",
       "3           3   40.0  https://insights.blackcoffer.com/will-machine-...   \n",
       "4           4   41.0  https://insights.blackcoffer.com/will-ai-repla...   \n",
       "\n",
       "                                               Title  \\\n",
       "0       AI in healthcare to Improve Patient Outcomes   \n",
       "1   What if the Creation is Taking Over the Creator?   \n",
       "2  What Jobs Will Robots Take From Humans in The ...   \n",
       "3  Will Machine Replace The Human in the Future o...   \n",
       "4                Will AI Replace Us or Work With Us?   \n",
       "\n",
       "                                                Text  \\\n",
       "0   Introduction “If anything kills over 10 milli...   \n",
       "1   Human minds, a fascination in itself carrying...   \n",
       "2   Introduction AI is rapidly evolving in the em...   \n",
       "3   “Anything that could give rise to smarter-tha...   \n",
       "4   “Machine intelligence is the last invention t...   \n",
       "\n",
       "                                             AllText  \n",
       "0  AI in healthcare to Improve Patient Outcomes  ...  \n",
       "1  What if the Creation is Taking Over the Creato...  \n",
       "2  What Jobs Will Robots Take From Humans in The ...  \n",
       "3  Will Machine Replace The Human in the Future o...  \n",
       "4  Will AI Replace Us or Work With Us?  “Machine ...  "
      ]
     },
     "execution_count": 655,
     "metadata": {},
     "output_type": "execute_result"
    }
   ],
   "source": [
    "Extracted_Text['AllText']=Extracted_Text[['Title','Text']].apply(\" \".join, axis=1)\n",
    "Extracted_Text.head()"
   ]
  },
  {
   "cell_type": "code",
   "execution_count": 656,
   "metadata": {},
   "outputs": [
    {
     "data": {
      "text/html": [
       "<div>\n",
       "<style scoped>\n",
       "    .dataframe tbody tr th:only-of-type {\n",
       "        vertical-align: middle;\n",
       "    }\n",
       "\n",
       "    .dataframe tbody tr th {\n",
       "        vertical-align: top;\n",
       "    }\n",
       "\n",
       "    .dataframe thead th {\n",
       "        text-align: right;\n",
       "    }\n",
       "</style>\n",
       "<table border=\"1\" class=\"dataframe\">\n",
       "  <thead>\n",
       "    <tr style=\"text-align: right;\">\n",
       "      <th></th>\n",
       "      <th>AllText</th>\n",
       "    </tr>\n",
       "  </thead>\n",
       "  <tbody>\n",
       "    <tr>\n",
       "      <th>0</th>\n",
       "      <td>AI in healthcare to Improve Patient Outcomes  ...</td>\n",
       "    </tr>\n",
       "    <tr>\n",
       "      <th>1</th>\n",
       "      <td>What if the Creation is Taking Over the Creato...</td>\n",
       "    </tr>\n",
       "    <tr>\n",
       "      <th>2</th>\n",
       "      <td>What Jobs Will Robots Take From Humans in The ...</td>\n",
       "    </tr>\n",
       "    <tr>\n",
       "      <th>3</th>\n",
       "      <td>Will Machine Replace The Human in the Future o...</td>\n",
       "    </tr>\n",
       "    <tr>\n",
       "      <th>4</th>\n",
       "      <td>Will AI Replace Us or Work With Us?  “Machine ...</td>\n",
       "    </tr>\n",
       "  </tbody>\n",
       "</table>\n",
       "</div>"
      ],
      "text/plain": [
       "                                             AllText\n",
       "0  AI in healthcare to Improve Patient Outcomes  ...\n",
       "1  What if the Creation is Taking Over the Creato...\n",
       "2  What Jobs Will Robots Take From Humans in The ...\n",
       "3  Will Machine Replace The Human in the Future o...\n",
       "4  Will AI Replace Us or Work With Us?  “Machine ..."
      ]
     },
     "execution_count": 656,
     "metadata": {},
     "output_type": "execute_result"
    }
   ],
   "source": [
    "Text_Data=Extracted_Text[['AllText']]\n",
    "Text_Data.head()"
   ]
  },
  {
   "cell_type": "code",
   "execution_count": 657,
   "metadata": {},
   "outputs": [
    {
     "data": {
      "text/plain": [
       "'AI in healthcare to Improve Patient Outcomes  Introduction “If anything kills over 10 million people in the next few decades, it will be a highly infectious virus rather than a war. Not missiles but microbes.” Bill Gates’s remarks at a TED conference in 2014, right after the world had avoided the Ebola outbreak. When the new, unprecedented, invisible virus hit us, it met an overwhelmed and unprepared healthcare system and oblivious population. This public health emergency demonstrated our lack of scientific consideration and underlined the alarming need for robust innovations in our health and medical facilities. For the past few years, artificial intelligence has proven to be of tangible potential in the healthcare sectors, clinical practices, translational medical and biomedical research. After the first case was detected in China on December 31st 2019, it was an AI program developed by BlueDot that alerted the world about the pandemic. It was quick to realise AI’s ability to analyse large chunks of data could help in detecting patterns and identifying and tracking the possible carriers of the virus. Many tracing apps use AI to keep tabs on the people who have been infected and prevent the risk of cross-infection by using AI algorithms that can track patterns and extract some features to classify or categorise them. So how does AI do that? IBM Watson, a sophisticated AI that works on cloud computing and natural language processing, has prominently contributed to the healthcare sector on a global level. Being a conversational AI, since 2013, Watson has helped in recommending treatments to patients suffering from cancer to ensure that they get the best treatment at optimum costs.  Researchers at Google Inc. showed that an AI system can be trained on thousands of images to achieve physician-level sensitivity. By identifying the molecular patterns associated with disease status and its subtypes, gene expression, and protein abundance levels, machine learning methods can detect fatal diseases like cancer at an early stage. Machine Learning (ML) techniques focus mainly on analyzing structured data, which can further help in clustering patients’ traits and infer the probability of disease outcomes. Since patient traits mainly include masses of data relating to age, gender, disease history, disease-specific data like diagnostic imaging and gene expressions, etc, ML can extract features from these data inputs by constructing data analytical algorithms. ML algorithms are either supervised or unsupervised. Unsupervised learning helps in extracting features and clustering similar features together that further leads to early detection of diseases. Clustering and principal component analysis enable grouping or clustering of similar traits together that are further used to maximize or minimize the similarity between the patients within or between the clusters. Since patient traits are recorded in multiple dimensions, such as genes, principal component analysis(PCA) creates the apparatus to reduce these dimensions which humans could have not done alone. Supervised learning considers the outcomes of the subjects together with the traits, and further correlates the inputs with the outputs to predict the probability of getting a particular clinical event, expected value of a disease level or expected survival time, or risk of Down’s syndrome. Biomarker panels that are mostly used to detect ovarian cancer, have outperformed the conventional statistical methods due to machine learning. In addition to this, the use of EHRs and Bayesian networks, which are a part of supervised machine learning algorithms, can predict clinical outcomes and mortality respectively. Unstructured data such as clinical notes and texts are converted into machine-readable structured data with the help of natural language processing(NLP). NLP works with two components: text processing and classification. Text processing helps in identifying a series of disease-relevant keywords in clinical notes and then through classification are further categorized into normal and abnormal cases. Chest screening through ML and NLP has helped find abnormalities in the lungs and provide treatment to covid patients. Healthcare organizations use NLP-based chatbots to increase interactions with patients, keeping their mental health and wellness in check. Deep learning is a modern extension of the classical neural network techniques which helps explore more complex non-linear patterns in data, using algorithms like convolution neural network, recurrent neural network, deep belief network, and deep neural network which enables more accurate clinical prediction. When it comes to genome interpretation, deep neural networks surpass the conventional methods of logistics regression and support vector machines. Sepsis Watch is an AI system trained in deep learning algorithms that holds the capability to analyze over 32 million data points to create a patient’s risk score and identify the early stages of sepsis. Another method known as the Learning-based Optimization of the Under Sampling Pattern( LOUPE) is based on integrating full resolution MRI scans with the convolutional neural network algorithm, which helps in creating more accurate reconstructions. Robotic surgery is widely considered in most delicate surgeries like gynaecology and prostate surgery. Even after striking the right balance between human decisions and AI precision, robotic surgery reduces surgeon efficiency as they have to be manually operated through a console. Thus, autonomous robotic surgery is on the rise with inventions such as robotic silicon fingers that mimic the sense of touch that surgeons need to identify organs, cut tissues, etc., or robotic catheters that can navigate whether it is touching blood, tissue, or valve. Researchers at Children’s National Hospital, Washington have already developed an AI called Smart Tissue Autonomous Robot (STAR), which performs a colon anastomosis on its own with the help of an ML-powered suturing tool, that automatically detects the patient’s breathing pattern to apply suture at the correct point. An image of STAR during surgery. Cloud computing in healthcare has helped in retrieving and sharing medical records safely with a reduction in maintenance costs. Through this technology doctors and various healthcare workers have access to detailed patient data that helps in speeding up analysis ultimately leading to better care in the form of more accurate information, medications, and therapies. How can It help in Biomedical research? Since AI can analyze literature beyond readability, it can be used to concise biomedical research. With the help of ML algorithms and NLP, AI can accelerate screening and indexing of biomedical research, by ranking the literature of interest which allows researchers to formulate and test scientific hypotheses far more precisely and quickly. Taking it to the next level, AI systems like the computational modelling assistant (CMA) helps researchers to construct simulation models from the concepts they have in mind. Such innovations have majorly contributed to topics such as tumour suppressor mechanisms and protein-protein interaction information extraction. AI as precision medicine Since precision medicine focuses on healthcare interventions to individuals or groups of patients based on their profile, the various AI devices pave the way to practice it more efficiently. With the help of ML, complex algorithms like large datasets can be used to predict and create an optimal treatment strategy. Deep learning and neural networks can be used to process data in healthcare apps and keep a close watch on the patient’s emotional state, food intake, or health monitoring.\\xa0 “Omics” refers to the collective technologies that help in exploring the roles, relationships of various branches ending with the suffix “omics” such as genomics, proteomics, etc. Omics-based tests based on machine learning algorithms help find correlations and predict treatment responses, ultimately creating personalized treatments for individual patients.\\xa0 How it helps in psychology and neuro patients For psychologists studying creativity,\\xa0 AI is promising new classes of experiments that are developing data structures and programs and exploring novel theories on a new horizon. Studies show that \\xa0AI can conduct therapy sessions, e-therapy sessions, and assessments autonomously, also assisting human practitioners before, during, or after sessions. The Detection and Computational Analysis of Psychological Signal project uses ML, computer vision, and NLP to analyze language, physical gestures, and social signals to identify cues for human distress. This ground-breaking technology assesses soldiers returning from combat and recognizes those who require further mental health support. In the future, it will combine data captured during face-to-face interviews with information on sleeping, eating, and online behaviours for a complete patient view. Stroke identification Stroke is another frequently occurring disease that affects more than 500 million people worldwide. Thrombus,\\xa0 in the vessel cerebral infarction is the major (about 85%) cause of stroke occurrence. In recent years, AI techniques have been used in numerous stroke-related studies as early detection and timely treatment along with efficient outcome prediction can help solve the problem. With AI at our disposal, large amounts of data with rich information, more complications and real-life clinical questions can be addressed in this arena. Currently, two ML algorithms- genetic fuzzy finite state machine and PCA were implemented to build a model building solution. These include a human activity recognition stage and a stroke onset detection stage. An alert stroke message is activated as soon as a movement significantly different from the normal pattern is recorded. ML methods have been applied to neuroimaging data to assist disease evaluation and predicting stroke treatment for the diagnosis. Patient Monitoring Today, the market for AI-based patient monitoring is impressive and monetarily enticing. It is evolving with artificial sensors, smart technologies and explores everything from brain-computer interfaces to nanorobotics. Companies with their smart-watches have engaged people to perform remote monitoring even when they are not “patients”. An obvious place to start is with wearable and embedded sensors, glucose monitors, pulse monitors, oximeters, and ECG monitors. With patient monitoring becoming crucial, AI finds numerous applications in chronic conditions, intensive care units, operating rooms, emergency rooms, and cardiac wards where timeless clinical decision-making can be measured in seconds. More advances have started to gain traction like smart prosthetics and implants. These play an impeccable role in patient management post-surgery or rehabilitation. Demographics, laboratory results and vital signs can also be used to predict cardiac arrest, transfer into the intensive care unit, or even death. In addition, an interpretable machine-learning model can assist anesthesiologists in predicting hypoxaemia events during surgery. This suggests that with deep-learning algorithms, raw patient-monitoring data could be better used to avoid information overload and alert overload while enabling more accurate clinical prediction and timely decision-making.  \\xa0Conclusion Considering the vast range of tasks that an AI can do, it is evident that it holds deep potential in improving patient outcomes to skyrocketing levels. Using sophisticated algorithms AI can bring a revolution in the healthcare sector. Even after facing challenges like whether the technology will be able to deliver the promises, ethical measures, training physicians to use it, standard regulations etc, the role of AI in transforming the clinical practices cannot be ignored. The biggest challenge is the integration of AI in daily practice. All of these can be overcome and within that period the technologies will mature making the system far more enhanced and effective. Blackcoffer Insights 29: Sanskriti Sunderum and Aayushi Nauhwar, SRCC, Delhi University '"
      ]
     },
     "execution_count": 657,
     "metadata": {},
     "output_type": "execute_result"
    }
   ],
   "source": [
    "Text_Data['AllText'][0]"
   ]
  },
  {
   "cell_type": "code",
   "execution_count": 658,
   "metadata": {},
   "outputs": [
    {
     "data": {
      "text/plain": [
       "AllText    114\n",
       "dtype: int64"
      ]
     },
     "execution_count": 658,
     "metadata": {},
     "output_type": "execute_result"
    }
   ],
   "source": [
    "Text_Data.count()"
   ]
  },
  {
   "cell_type": "code",
   "execution_count": 659,
   "metadata": {},
   "outputs": [
    {
     "data": {
      "text/plain": [
       "AllText    0\n",
       "dtype: int64"
      ]
     },
     "execution_count": 659,
     "metadata": {},
     "output_type": "execute_result"
    }
   ],
   "source": [
    "Text_Data.isnull().sum()"
   ]
  },
  {
   "cell_type": "code",
   "execution_count": 660,
   "metadata": {},
   "outputs": [
    {
     "name": "stdout",
     "output_type": "stream",
     "text": [
      "<class 'pandas.core.frame.DataFrame'>\n",
      "RangeIndex: 114 entries, 0 to 113\n",
      "Data columns (total 1 columns):\n",
      " #   Column   Non-Null Count  Dtype \n",
      "---  ------   --------------  ----- \n",
      " 0   AllText  114 non-null    object\n",
      "dtypes: object(1)\n",
      "memory usage: 1.0+ KB\n"
     ]
    }
   ],
   "source": [
    "Text_Data.info()"
   ]
  },
  {
   "cell_type": "code",
   "execution_count": 661,
   "metadata": {},
   "outputs": [
    {
     "name": "stdout",
     "output_type": "stream",
     "text": [
      "127199\n"
     ]
    }
   ],
   "source": [
    "import re\n",
    "title = Text_Data['AllText']\n",
    "#content = str(content)\n",
    "title = title.str.lower()\n",
    "title = title.apply(lambda x : re.sub(r\"(@[\\w]*)\",\"\",x) )\n",
    "# removing special characters and numbers\n",
    "title = title.apply(lambda x : re.sub(\"[^a-z\\s]\",\"\",x) )\n",
    "# remove hash tags\n",
    "title = title.str.replace(\"#\", \" \")\n",
    "count_words = title.str.findall(r'(\\w+)').str.len()\n",
    "print(count_words.sum())"
   ]
  },
  {
   "cell_type": "code",
   "execution_count": 662,
   "metadata": {},
   "outputs": [
    {
     "data": {
      "text/plain": [
       "0    ai in healthcare to improve patient outcomes  ...\n",
       "1    what if the creation is taking over the creato...\n",
       "2    what jobs will robots take from humans in the ...\n",
       "3    will machine replace the human in the future o...\n",
       "4    will ai replace us or work with us  machine in...\n",
       "Name: AllText, dtype: object"
      ]
     },
     "execution_count": 662,
     "metadata": {},
     "output_type": "execute_result"
    }
   ],
   "source": [
    "title.head()"
   ]
  },
  {
   "cell_type": "code",
   "execution_count": 663,
   "metadata": {},
   "outputs": [
    {
     "data": {
      "text/plain": [
       "0    ai in healthcare to improve patient outcomes  ...\n",
       "1    what if the creation is taking over the creato...\n",
       "Name: AllText, dtype: object"
      ]
     },
     "execution_count": 663,
     "metadata": {},
     "output_type": "execute_result"
    }
   ],
   "source": [
    "title[0:2]"
   ]
  },
  {
   "cell_type": "code",
   "execution_count": 664,
   "metadata": {},
   "outputs": [
    {
     "name": "stdout",
     "output_type": "stream",
     "text": [
      "<class 'pandas.core.series.Series'>\n"
     ]
    }
   ],
   "source": [
    "print(type(title))"
   ]
  },
  {
   "cell_type": "code",
   "execution_count": 665,
   "metadata": {},
   "outputs": [
    {
     "data": {
      "text/html": [
       "<div>\n",
       "<style scoped>\n",
       "    .dataframe tbody tr th:only-of-type {\n",
       "        vertical-align: middle;\n",
       "    }\n",
       "\n",
       "    .dataframe tbody tr th {\n",
       "        vertical-align: top;\n",
       "    }\n",
       "\n",
       "    .dataframe thead th {\n",
       "        text-align: right;\n",
       "    }\n",
       "</style>\n",
       "<table border=\"1\" class=\"dataframe\">\n",
       "  <thead>\n",
       "    <tr style=\"text-align: right;\">\n",
       "      <th></th>\n",
       "      <th>Text</th>\n",
       "    </tr>\n",
       "  </thead>\n",
       "  <tbody>\n",
       "    <tr>\n",
       "      <th>0</th>\n",
       "      <td>ai in healthcare to improve patient outcomes  ...</td>\n",
       "    </tr>\n",
       "    <tr>\n",
       "      <th>1</th>\n",
       "      <td>what if the creation is taking over the creato...</td>\n",
       "    </tr>\n",
       "    <tr>\n",
       "      <th>2</th>\n",
       "      <td>what jobs will robots take from humans in the ...</td>\n",
       "    </tr>\n",
       "    <tr>\n",
       "      <th>3</th>\n",
       "      <td>will machine replace the human in the future o...</td>\n",
       "    </tr>\n",
       "    <tr>\n",
       "      <th>4</th>\n",
       "      <td>will ai replace us or work with us  machine in...</td>\n",
       "    </tr>\n",
       "  </tbody>\n",
       "</table>\n",
       "</div>"
      ],
      "text/plain": [
       "                                                Text\n",
       "0  ai in healthcare to improve patient outcomes  ...\n",
       "1  what if the creation is taking over the creato...\n",
       "2  what jobs will robots take from humans in the ...\n",
       "3  will machine replace the human in the future o...\n",
       "4  will ai replace us or work with us  machine in..."
      ]
     },
     "execution_count": 665,
     "metadata": {},
     "output_type": "execute_result"
    }
   ],
   "source": [
    "title=title.tolist()\n",
    "Cleaned_Text = pd.DataFrame(data=title, columns=['Text'])\n",
    "Cleaned_Text.head()"
   ]
  },
  {
   "cell_type": "code",
   "execution_count": 666,
   "metadata": {},
   "outputs": [],
   "source": [
    "# import re\n",
    "# filter_text=[]\n",
    "\n",
    "# for text in Text_Data['AllText']:\n",
    "#     filteredText=re.sub('[^A-Za-z]+', ' ',text)\n",
    "#     filter_text.append(filteredText)\n",
    "\n",
    "# df=pd.DataFrame({'Text': filter_text})\n",
    "# df.head()\n",
    "        "
   ]
  },
  {
   "cell_type": "code",
   "execution_count": 667,
   "metadata": {},
   "outputs": [
    {
     "name": "stdout",
     "output_type": "stream",
     "text": [
      "StopWords_Auditor.txt\n",
      "StopWords_Currencies.txt\n",
      "StopWords_DatesandNumbers.txt\n",
      "StopWords_Generic.txt\n",
      "StopWords_GenericLong.txt\n",
      "StopWords_Geographic.txt\n",
      "StopWords_Names.txt\n"
     ]
    }
   ],
   "source": [
    "# iterate through all file\n",
    "import os\n",
    "path= \"C:/Users/SUNIL/Downloads/Compressed/IT projects/drive-download-20230216T063319Z-001/StopWords/\"\n",
    "res = []\n",
    "text=[]\n",
    "def read_text_file(file_path):\n",
    "    with open(file_path,'r') as f:\n",
    "        word =f.readlines()\n",
    "        for word in word:\n",
    "            #word.replace(\"|\",\"\").strip\n",
    "            res.append(word.strip())\n",
    "        \n",
    "\n",
    "for file in os.listdir(path):\n",
    "    print(file)\n",
    "    # Check whether file is in text format or not\n",
    "    if file.endswith(\".txt\"):\n",
    "        file_path = f'{path}\\{file}'\n",
    "  \n",
    "        # call read text file function\n",
    "        \n",
    "        read_text_file(file_path)\n",
    "for i in res:\n",
    "    text.append(i.replace(\"|\",\"\").strip())\n",
    "# print('\\n')\n",
    "# print(len(text))\n",
    "# print('\\n')\n",
    "# print(text)\n"
   ]
  },
  {
   "cell_type": "code",
   "execution_count": 668,
   "metadata": {},
   "outputs": [],
   "source": [
    "stopwords = set(text)"
   ]
  },
  {
   "cell_type": "code",
   "execution_count": 669,
   "metadata": {},
   "outputs": [],
   "source": [
    "\n",
    "NewText=[]\n",
    "\n",
    "for i in Cleaned_Text['Text']:\n",
    "    words = [word for word in i.split() if word.upper() not in stopwords]\n",
    "    new_title = \" \".join(words)\n",
    "    new_text = \" \".join(words)\n",
    "    NewText.append(new_title)\n",
    "# print(new_title)\n",
    "# print(\"Old length: \", len(i))\n",
    "# print(\"New length: \", len(new_title))\n",
    "  \n",
    "# print(new_text)\n",
    "# print(\"Old length: \", len(j))\n",
    "# print(\"New length: \", len(new_text))"
   ]
  },
  {
   "cell_type": "code",
   "execution_count": 670,
   "metadata": {},
   "outputs": [
    {
     "data": {
      "text/plain": [
       "114"
      ]
     },
     "execution_count": 670,
     "metadata": {},
     "output_type": "execute_result"
    }
   ],
   "source": [
    "len(NewText)"
   ]
  },
  {
   "cell_type": "code",
   "execution_count": 671,
   "metadata": {},
   "outputs": [],
   "source": [
    "Cleaned_stopwords=pd.DataFrame({'NewText': NewText})"
   ]
  },
  {
   "cell_type": "code",
   "execution_count": 672,
   "metadata": {},
   "outputs": [
    {
     "data": {
      "text/html": [
       "<div>\n",
       "<style scoped>\n",
       "    .dataframe tbody tr th:only-of-type {\n",
       "        vertical-align: middle;\n",
       "    }\n",
       "\n",
       "    .dataframe tbody tr th {\n",
       "        vertical-align: top;\n",
       "    }\n",
       "\n",
       "    .dataframe thead th {\n",
       "        text-align: right;\n",
       "    }\n",
       "</style>\n",
       "<table border=\"1\" class=\"dataframe\">\n",
       "  <thead>\n",
       "    <tr style=\"text-align: right;\">\n",
       "      <th></th>\n",
       "      <th>NewText</th>\n",
       "    </tr>\n",
       "  </thead>\n",
       "  <tbody>\n",
       "    <tr>\n",
       "      <th>0</th>\n",
       "      <td>healthcare improve patient outcomes introducti...</td>\n",
       "    </tr>\n",
       "    <tr>\n",
       "      <th>1</th>\n",
       "      <td>creation taking creator human minds a fascinat...</td>\n",
       "    </tr>\n",
       "    <tr>\n",
       "      <th>2</th>\n",
       "      <td>jobs robots take humans future introduction ra...</td>\n",
       "    </tr>\n",
       "    <tr>\n",
       "      <th>3</th>\n",
       "      <td>machine replace human future work anything cou...</td>\n",
       "    </tr>\n",
       "    <tr>\n",
       "      <th>4</th>\n",
       "      <td>replace us work us machine intelligence last i...</td>\n",
       "    </tr>\n",
       "  </tbody>\n",
       "</table>\n",
       "</div>"
      ],
      "text/plain": [
       "                                             NewText\n",
       "0  healthcare improve patient outcomes introducti...\n",
       "1  creation taking creator human minds a fascinat...\n",
       "2  jobs robots take humans future introduction ra...\n",
       "3  machine replace human future work anything cou...\n",
       "4  replace us work us machine intelligence last i..."
      ]
     },
     "execution_count": 672,
     "metadata": {},
     "output_type": "execute_result"
    }
   ],
   "source": [
    "Cleaned_stopwords.head()"
   ]
  },
  {
   "cell_type": "code",
   "execution_count": 673,
   "metadata": {},
   "outputs": [
    {
     "data": {
      "text/plain": [
       "'jobs robots take humans future introduction rapidly evolving employment sector particularly matters involving business finance finance management economics accounting popular university courses globally particularly graduate level due employability however evolution machinery industries changing according research jobs sectors replaced agents next years due nature work employees responsible tasks data analysis keeping track numerical information machines excel complicated data sets analyzed faster efficiently aipowered computers people algorithmic trading procedures produce automated deals less likely produced without minute errors undertaken humans matters involving industrial work a subsection artificial intelligence used namely machine learning machine learning a term used application artificial intelligence systems involves assimilating processing information gaining experience mainly concerned development technology computer programs improvement process mainly divided steps start collection data data collected internal database perhaps iot structure timeconsuming step cleaning preparing rearranging data involves recognition outliers trends missing information outcome accurate possible step consists formatting data useful source information a variety sources step comes selfservice data processing tools useful provide intelligent services matching data attributes distinct databases intelligently integrating data arranged better represent a specific pattern lastly data divided sets one training algorithm one analysis types machine learning supervised unsupervised reinforcement learning common supervised machine learning based accurately labeled data machine given a collection information including outcome operation rest information referred input features supervises machine guiding establish connections variants unsupervised learning machine isnt given labeled sets data divided allowing recognize create patterns within information provided since computers capabilities identifying distinguished similarities method helps classifying data reinforcement learning comprises experiencebased learning similar people learn due a reward punishment system based actions variations system learning recently integrated business finance elaborated following passages machine learning finance banking ways machine learning used finance banking common used detect frauds fraud common problem financial service companies accounts billions dollars misfortune common frauds credit debit usage a stranger document forgery mortgage fraud usually finance companies keep enormous amount data stored online increases risk information accessed without authorization expanding innovative headway misrepresentation monetary business currently viewed a danger significant information fraud recognition frameworks past planned dependent a rules could effortlessly bypassed current fraudsters therefore companies today leverage machine learning combat fraudulent financial transactions machine learning works looking enormous informational indexes distinguish unique suspicious activities additional examination security groups works looking exchange against information focuses like clients record history ip address area forth depending type exchange taking program automatically refuse a withdrawal purchase makes a decision examples fraud detection software used include feedzai data visor teradata machine learning also used algorithmic trading portfolio management underwriting chatbots improving customer service algorithmic trading interaction executing orders using computerized premodified exchanging guidelines represent factors like value timing volume algorithm a set directions solving a problem computer calculations send parts full request market run contrast human dealers algorithmic exchanging investigate enormous volumes information every therefore make thousands trades every machine learning exchanging choices gives human traders a benefit market normal likewise algorithmic exchanging doesnt exchanging choices dependent feelings a typical constraint human dealers whose judgment might influenced feelings individual desires exchanging technique generally utilized multifaceted investment administrators monetary foundations automate trading activities banking industry organizations access a number shopper information machine learning prepared work order simplify underwriting process machine learning calculations speedy choices endorsing credit scoring save organizations time monetary assets utilized people data scientists train algorithms analyze millions consumer data coordinate information records search interesting special cases a choice whether a shopper meets requirements advance protection instance calculation prepared proficient method examine shopper information like age pay occupation buyers credit conduct benefits machine learning form revolutionary technology usage machine learning debated beneficial properties weighed against possible disadvantages observed upon correct usage used solve a wide business challenges anticipate complicated customer behavior weve also seen several largest conglomerates google amazon microsoft introduce machine learning platforms technology vs human intelligence terms business ml aid businesses identifying consumers demands formulate a pattern based allowing companies reach consumers maximize eliminates need expenses maintenance reducing risks associated unexpected breakdowns minimizes wasteful costs firms historical data a process visualization tool a flexible analytical environment a feedback loop used build ml architecture input data another agitating chore businesses present machine learning step labor eradicates possibility errors caused labor causing disruptions provides employees extra time handle tasks financial sector machine learning already utilized portfolio management algorithmic trading underwriting fraud detection chatbots conversational interfaces security customer support sentiment analysis future uses ml banking another aspect business involving artificial intelligence includes image recognition entails a system program recognizes objects people places movements photos identifies photographs using imaging system machine recognition tech artificial intelligence programmed algorithms downfalls machine learning benefits advancement machine learning isnt perfect thing several disadvantages information acquisition time resources errors wrong interpretations one hurdles amount finance needed invest machine learning a successful project issues fact requires gigantic informational indexes train ought unbiased quality likewise times wait information produced machine learning needs sufficient opportunity calculations learn adequately satisfy accuracy relevancy also needs huge resources work mean extra requirements computer work another significant problem capacity precisely decipher results produced calculations likewise cautiously pick algorithms get wanted results conclusion various reports past current years claim a significant piece human labor force replaced robots machines years come excessive innovative work led computerized reasoning dread a significant job crisis unfurl since numerous positions precisely productively performed use machines countries like mainly computer programs used secondary tertiary sectors cleaning depositing everything done however cannot replace humans future humans several capabilities even several technological advancements a machine would able capabilities include creative thinking creative problem solving human connection example a goes a get injection a nurse always relaxes afraid needle a machines touch would able soothe a another example could humans tend share things open a machine able since programmed things told like computers replace us would however complement us make work easier less timeconsuming without humans future blackcoffer insights amara arora vaanya kaushal scottish international school'"
      ]
     },
     "execution_count": 673,
     "metadata": {},
     "output_type": "execute_result"
    }
   ],
   "source": [
    "Cleaned_stopwords['NewText'][2]"
   ]
  },
  {
   "cell_type": "code",
   "execution_count": 674,
   "metadata": {},
   "outputs": [
    {
     "data": {
      "text/html": [
       "<div>\n",
       "<style scoped>\n",
       "    .dataframe tbody tr th:only-of-type {\n",
       "        vertical-align: middle;\n",
       "    }\n",
       "\n",
       "    .dataframe tbody tr th {\n",
       "        vertical-align: top;\n",
       "    }\n",
       "\n",
       "    .dataframe thead th {\n",
       "        text-align: right;\n",
       "    }\n",
       "</style>\n",
       "<table border=\"1\" class=\"dataframe\">\n",
       "  <thead>\n",
       "    <tr style=\"text-align: right;\">\n",
       "      <th></th>\n",
       "      <th>Negative</th>\n",
       "      <th>Positive</th>\n",
       "    </tr>\n",
       "  </thead>\n",
       "  <tbody>\n",
       "    <tr>\n",
       "      <th>0</th>\n",
       "      <td>2-faced</td>\n",
       "      <td>a+</td>\n",
       "    </tr>\n",
       "    <tr>\n",
       "      <th>1</th>\n",
       "      <td>2-faces</td>\n",
       "      <td>abound</td>\n",
       "    </tr>\n",
       "    <tr>\n",
       "      <th>2</th>\n",
       "      <td>abnormal</td>\n",
       "      <td>abounds</td>\n",
       "    </tr>\n",
       "    <tr>\n",
       "      <th>3</th>\n",
       "      <td>abolish</td>\n",
       "      <td>abundance</td>\n",
       "    </tr>\n",
       "    <tr>\n",
       "      <th>4</th>\n",
       "      <td>abominable</td>\n",
       "      <td>abundant</td>\n",
       "    </tr>\n",
       "    <tr>\n",
       "      <th>...</th>\n",
       "      <td>...</td>\n",
       "      <td>...</td>\n",
       "    </tr>\n",
       "    <tr>\n",
       "      <th>4778</th>\n",
       "      <td>zaps</td>\n",
       "      <td>NaN</td>\n",
       "    </tr>\n",
       "    <tr>\n",
       "      <th>4779</th>\n",
       "      <td>zealot</td>\n",
       "      <td>NaN</td>\n",
       "    </tr>\n",
       "    <tr>\n",
       "      <th>4780</th>\n",
       "      <td>zealous</td>\n",
       "      <td>NaN</td>\n",
       "    </tr>\n",
       "    <tr>\n",
       "      <th>4781</th>\n",
       "      <td>zealously</td>\n",
       "      <td>NaN</td>\n",
       "    </tr>\n",
       "    <tr>\n",
       "      <th>4782</th>\n",
       "      <td>zombie</td>\n",
       "      <td>NaN</td>\n",
       "    </tr>\n",
       "  </tbody>\n",
       "</table>\n",
       "<p>4783 rows × 2 columns</p>\n",
       "</div>"
      ],
      "text/plain": [
       "        Negative   Positive\n",
       "0        2-faced         a+\n",
       "1        2-faces     abound\n",
       "2       abnormal    abounds\n",
       "3        abolish  abundance\n",
       "4     abominable   abundant\n",
       "...          ...        ...\n",
       "4778        zaps        NaN\n",
       "4779      zealot        NaN\n",
       "4780     zealous        NaN\n",
       "4781   zealously        NaN\n",
       "4782      zombie        NaN\n",
       "\n",
       "[4783 rows x 2 columns]"
      ]
     },
     "execution_count": 674,
     "metadata": {},
     "output_type": "execute_result"
    }
   ],
   "source": [
    "\n",
    "# read text file into pandas DataFrame and create \n",
    "# header with names\n",
    "Positive_stopword = pd.read_csv(\"C:/Users/SUNIL/Downloads/Compressed/IT projects/drive-download-20230216T063319Z-001/MasterDictionary/negative-words.txt\",names=['Negative'])\n",
    "Negative_stopword = pd.read_csv(\"C:/Users/SUNIL/Downloads/Compressed/IT projects/drive-download-20230216T063319Z-001/MasterDictionary/positive-words.txt\",names=['Positive'])\n",
    "Sentiments= pd.concat([Positive_stopword, Negative_stopword], axis=1)\n",
    "Sentiments\n"
   ]
  },
  {
   "cell_type": "code",
   "execution_count": 675,
   "metadata": {},
   "outputs": [
    {
     "data": {
      "text/plain": [
       "Negative    4783\n",
       "Positive    2006\n",
       "dtype: int64"
      ]
     },
     "execution_count": 675,
     "metadata": {},
     "output_type": "execute_result"
    }
   ],
   "source": [
    "Sentiments.count()"
   ]
  },
  {
   "cell_type": "code",
   "execution_count": 676,
   "metadata": {},
   "outputs": [
    {
     "data": {
      "text/html": [
       "<div>\n",
       "<style scoped>\n",
       "    .dataframe tbody tr th:only-of-type {\n",
       "        vertical-align: middle;\n",
       "    }\n",
       "\n",
       "    .dataframe tbody tr th {\n",
       "        vertical-align: top;\n",
       "    }\n",
       "\n",
       "    .dataframe thead th {\n",
       "        text-align: right;\n",
       "    }\n",
       "</style>\n",
       "<table border=\"1\" class=\"dataframe\">\n",
       "  <thead>\n",
       "    <tr style=\"text-align: right;\">\n",
       "      <th></th>\n",
       "      <th>Negative</th>\n",
       "      <th>Positive</th>\n",
       "    </tr>\n",
       "  </thead>\n",
       "  <tbody>\n",
       "    <tr>\n",
       "      <th>0</th>\n",
       "      <td>2-faced</td>\n",
       "      <td>a+</td>\n",
       "    </tr>\n",
       "    <tr>\n",
       "      <th>1</th>\n",
       "      <td>2-faces</td>\n",
       "      <td>abound</td>\n",
       "    </tr>\n",
       "    <tr>\n",
       "      <th>2</th>\n",
       "      <td>abnormal</td>\n",
       "      <td>abounds</td>\n",
       "    </tr>\n",
       "    <tr>\n",
       "      <th>3</th>\n",
       "      <td>abolish</td>\n",
       "      <td>abundance</td>\n",
       "    </tr>\n",
       "    <tr>\n",
       "      <th>4</th>\n",
       "      <td>abominable</td>\n",
       "      <td>abundant</td>\n",
       "    </tr>\n",
       "    <tr>\n",
       "      <th>...</th>\n",
       "      <td>...</td>\n",
       "      <td>...</td>\n",
       "    </tr>\n",
       "    <tr>\n",
       "      <th>4778</th>\n",
       "      <td>zaps</td>\n",
       "      <td>NaN</td>\n",
       "    </tr>\n",
       "    <tr>\n",
       "      <th>4779</th>\n",
       "      <td>zealot</td>\n",
       "      <td>NaN</td>\n",
       "    </tr>\n",
       "    <tr>\n",
       "      <th>4780</th>\n",
       "      <td>zealous</td>\n",
       "      <td>NaN</td>\n",
       "    </tr>\n",
       "    <tr>\n",
       "      <th>4781</th>\n",
       "      <td>zealously</td>\n",
       "      <td>NaN</td>\n",
       "    </tr>\n",
       "    <tr>\n",
       "      <th>4782</th>\n",
       "      <td>zombie</td>\n",
       "      <td>NaN</td>\n",
       "    </tr>\n",
       "  </tbody>\n",
       "</table>\n",
       "<p>4783 rows × 2 columns</p>\n",
       "</div>"
      ],
      "text/plain": [
       "        Negative   Positive\n",
       "0        2-faced         a+\n",
       "1        2-faces     abound\n",
       "2       abnormal    abounds\n",
       "3        abolish  abundance\n",
       "4     abominable   abundant\n",
       "...          ...        ...\n",
       "4778        zaps        NaN\n",
       "4779      zealot        NaN\n",
       "4780     zealous        NaN\n",
       "4781   zealously        NaN\n",
       "4782      zombie        NaN\n",
       "\n",
       "[4783 rows x 2 columns]"
      ]
     },
     "execution_count": 676,
     "metadata": {},
     "output_type": "execute_result"
    }
   ],
   "source": [
    "df= pd.concat([df1, df2], axis=1)\n",
    "df"
   ]
  },
  {
   "cell_type": "code",
   "execution_count": 677,
   "metadata": {},
   "outputs": [
    {
     "data": {
      "text/plain": [
       "['a+',\n",
       " 'abound',\n",
       " 'abounds',\n",
       " 'abundance',\n",
       " 'abundant',\n",
       " 'accessable',\n",
       " 'accessible',\n",
       " 'acclaim',\n",
       " 'acclaimed',\n",
       " 'acclamation']"
      ]
     },
     "execution_count": 677,
     "metadata": {},
     "output_type": "execute_result"
    }
   ],
   "source": [
    "positive=Sentiments[\"Positive\"].tolist()\n",
    "positive[0:10]"
   ]
  },
  {
   "cell_type": "code",
   "execution_count": 678,
   "metadata": {},
   "outputs": [
    {
     "data": {
      "text/plain": [
       "['2-faced',\n",
       " '2-faces',\n",
       " 'abnormal',\n",
       " 'abolish',\n",
       " 'abominable',\n",
       " 'abominably',\n",
       " 'abominate',\n",
       " 'abomination',\n",
       " 'abort',\n",
       " 'aborted']"
      ]
     },
     "execution_count": 678,
     "metadata": {},
     "output_type": "execute_result"
    }
   ],
   "source": [
    "negative=Sentiments[\"Negative\"].tolist()\n",
    "negative[0:10]"
   ]
  },
  {
   "cell_type": "code",
   "execution_count": null,
   "metadata": {},
   "outputs": [],
   "source": []
  },
  {
   "cell_type": "code",
   "execution_count": 679,
   "metadata": {},
   "outputs": [],
   "source": [
    "import nltk\n",
    "\n",
    "def token(data):\n",
    "    tokenize=[]\n",
    "    for i in data:\n",
    "        tokenize.append(nltk.word_tokenize(i))\n",
    "    return tokenize"
   ]
  },
  {
   "cell_type": "code",
   "execution_count": 680,
   "metadata": {},
   "outputs": [],
   "source": [
    "# import nltk\n",
    "\n",
    "# def token(data):\n",
    "#     s=[]\n",
    "#     tokenize=[]\n",
    "#     for i in data:\n",
    "#         tokenize.append(nltk.word_tokenize(i))\n",
    "#     for j in tokenize:\n",
    "#         for k in j:\n",
    "#             s.append(k)\n",
    "#     return s"
   ]
  },
  {
   "cell_type": "code",
   "execution_count": 681,
   "metadata": {},
   "outputs": [
    {
     "name": "stdout",
     "output_type": "stream",
     "text": [
      "[['healthcare', 'improve', 'patient', 'outcomes', 'introduction', 'anything', 'kills', 'people', 'next', 'decades', 'a', 'highly', 'infectious', 'virus', 'rather', 'a', 'war', 'missiles', 'microbes', 'gatess', 'remarks', 'a', 'conference', 'right', 'world', 'avoided', 'ebola', 'outbreak', 'unprecedented', 'invisible', 'virus', 'hit', 'us', 'met', 'overwhelmed', 'unprepared', 'healthcare', 'system', 'oblivious', 'population', 'public', 'health', 'emergency', 'demonstrated', 'lack', 'scientific', 'consideration', 'underlined', 'alarming', 'need', 'robust', 'innovations', 'health', 'medical', 'facilities', 'past', 'years', 'artificial', 'intelligence', 'proven', 'tangible', 'potential', 'healthcare', 'sectors', 'clinical', 'practices', 'translational', 'medical', 'biomedical', 'research', 'detected', 'program', 'developed', 'bluedot', 'alerted', 'world', 'pandemic', 'realise', 'ais', 'ability', 'analyse', 'chunks', 'data', 'could', 'help', 'detecting', 'patterns', 'identifying', 'tracking', 'possible', 'carriers', 'virus', 'tracing', 'apps', 'use', 'keep', 'tabs', 'people', 'infected', 'prevent', 'risk', 'crossinfection', 'using', 'algorithms', 'track', 'patterns', 'extract', 'features', 'classify', 'categorise', 'ibm', 'a', 'sophisticated', 'works', 'computing', 'natural', 'language', 'processing', 'prominently', 'contributed', 'healthcare', 'sector', 'a', 'global', 'level', 'a', 'conversational', 'since', 'helped', 'recommending', 'treatments', 'patients', 'suffering', 'cancer', 'ensure', 'get', 'treatment', 'optimum', 'costs', 'researchers', 'google', 'inc', 'showed', 'system', 'trained', 'thousands', 'images', 'achieve', 'physicianlevel', 'sensitivity', 'identifying', 'molecular', 'patterns', 'associated', 'disease', 'status', 'subtypes', 'expression', 'protein', 'abundance', 'levels', 'machine', 'learning', 'methods', 'detect', 'fatal', 'diseases', 'like', 'cancer', 'stage', 'machine', 'learning', 'ml', 'techniques', 'focus', 'mainly', 'analyzing', 'structured', 'data', 'help', 'clustering', 'patients', 'traits', 'infer', 'probability', 'disease', 'outcomes', 'since', 'patient', 'traits', 'mainly', 'include', 'masses', 'data', 'relating', 'age', 'gender', 'disease', 'history', 'diseasespecific', 'data', 'like', 'diagnostic', 'imaging', 'expressions', 'etc', 'ml', 'extract', 'features', 'data', 'inputs', 'constructing', 'data', 'analytical', 'algorithms', 'ml', 'algorithms', 'either', 'supervised', 'unsupervised', 'unsupervised', 'learning', 'helps', 'extracting', 'features', 'clustering', 'similar', 'features', 'together', 'leads', 'detection', 'diseases', 'clustering', 'principal', 'component', 'analysis', 'enable', 'grouping', 'clustering', 'similar', 'traits', 'together', 'used', 'maximize', 'minimize', 'similarity', 'patients', 'within', 'clusters', 'since', 'patient', 'traits', 'recorded', 'multiple', 'dimensions', 'genes', 'principal', 'component', 'analysispca', 'creates', 'apparatus', 'reduce', 'dimensions', 'humans', 'could', 'done', 'alone', 'supervised', 'learning', 'considers', 'outcomes', 'subjects', 'together', 'traits', 'correlates', 'inputs', 'outputs', 'predict', 'probability', 'getting', 'a', 'particular', 'clinical', 'event', 'expected', 'value', 'a', 'disease', 'level', 'expected', 'survival', 'time', 'risk', 'syndrome', 'biomarker', 'panels', 'mostly', 'used', 'detect', 'ovarian', 'cancer', 'outperformed', 'conventional', 'statistical', 'methods', 'due', 'machine', 'learning', 'addition', 'use', 'ehrs', 'bayesian', 'networks', 'a', 'part', 'supervised', 'machine', 'learning', 'algorithms', 'predict', 'clinical', 'outcomes', 'mortality', 'respectively', 'unstructured', 'data', 'clinical', 'notes', 'texts', 'converted', 'machinereadable', 'structured', 'data', 'help', 'natural', 'language', 'processingnlp', 'nlp', 'works', 'components', 'text', 'processing', 'classification', 'text', 'processing', 'helps', 'identifying', 'a', 'series', 'diseaserelevant', 'keywords', 'clinical', 'notes', 'classification', 'categorized', 'normal', 'abnormal', 'cases', 'chest', 'screening', 'ml', 'nlp', 'helped', 'find', 'abnormalities', 'lungs', 'provide', 'treatment', 'covid', 'patients', 'healthcare', 'organizations', 'use', 'nlpbased', 'chatbots', 'increase', 'interactions', 'patients', 'keeping', 'mental', 'health', 'wellness', 'check', 'deep', 'learning', 'a', 'modern', 'extension', 'classical', 'neural', 'network', 'techniques', 'helps', 'explore', 'complex', 'nonlinear', 'patterns', 'data', 'using', 'algorithms', 'like', 'convolution', 'neural', 'network', 'recurrent', 'neural', 'network', 'deep', 'belief', 'network', 'deep', 'neural', 'network', 'enables', 'accurate', 'clinical', 'prediction', 'comes', 'genome', 'interpretation', 'deep', 'neural', 'networks', 'surpass', 'conventional', 'methods', 'logistics', 'regression', 'support', 'vector', 'machines', 'sepsis', 'watch', 'system', 'trained', 'deep', 'learning', 'algorithms', 'holds', 'capability', 'analyze', 'data', 'points', 'create', 'a', 'patients', 'risk', 'score', 'identify', 'stages', 'sepsis', 'another', 'method', 'known', 'learningbased', 'optimization', 'sampling', 'pattern', 'loupe', 'based', 'integrating', 'full', 'resolution', 'mri', 'scans', 'convolutional', 'neural', 'network', 'algorithm', 'helps', 'creating', 'accurate', 'reconstructions', 'robotic', 'surgery', 'widely', 'considered', 'delicate', 'surgeries', 'like', 'gynaecology', 'prostate', 'surgery', 'even', 'striking', 'right', 'balance', 'human', 'decisions', 'precision', 'robotic', 'surgery', 'reduces', 'surgeon', 'efficiency', 'manually', 'operated', 'a', 'console', 'thus', 'autonomous', 'robotic', 'surgery', 'rise', 'inventions', 'robotic', 'silicon', 'fingers', 'mimic', 'sense', 'touch', 'surgeons', 'need', 'identify', 'organs', 'cut', 'tissues', 'etc', 'robotic', 'catheters', 'navigate', 'whether', 'touching', 'tissue', 'valve', 'researchers', 'childrens', 'national', 'hospital', 'already', 'developed', 'called', 'tissue', 'autonomous', 'robot', 'performs', 'a', 'anastomosis', 'help', 'mlpowered', 'suturing', 'tool', 'automatically', 'detects', 'patients', 'breathing', 'pattern', 'apply', 'suture', 'correct', 'point', 'image', 'surgery', 'computing', 'healthcare', 'helped', 'retrieving', 'sharing', 'medical', 'records', 'safely', 'a', 'reduction', 'maintenance', 'costs', 'technology', 'doctors', 'various', 'healthcare', 'workers', 'access', 'detailed', 'patient', 'data', 'helps', 'speeding', 'analysis', 'ultimately', 'leading', 'better', 'care', 'form', 'accurate', 'information', 'medications', 'therapies', 'help', 'biomedical', 'research', 'since', 'analyze', 'literature', 'beyond', 'readability', 'used', 'concise', 'biomedical', 'research', 'help', 'ml', 'algorithms', 'nlp', 'accelerate', 'screening', 'indexing', 'biomedical', 'research', 'ranking', 'literature', 'interest', 'allows', 'researchers', 'formulate', 'test', 'scientific', 'hypotheses', 'far', 'precisely', 'quickly', 'taking', 'next', 'level', 'systems', 'like', 'computational', 'modelling', 'assistant', 'cma', 'helps', 'researchers', 'construct', 'simulation', 'models', 'concepts', 'mind', 'innovations', 'majorly', 'contributed', 'topics', 'tumour', 'suppressor', 'mechanisms', 'proteinprotein', 'interaction', 'information', 'extraction', 'precision', 'medicine', 'since', 'precision', 'medicine', 'focuses', 'healthcare', 'interventions', 'individuals', 'groups', 'patients', 'based', 'profile', 'various', 'devices', 'pave', 'practice', 'efficiently', 'help', 'ml', 'complex', 'algorithms', 'like', 'datasets', 'used', 'predict', 'create', 'optimal', 'treatment', 'strategy', 'deep', 'learning', 'neural', 'networks', 'used', 'process', 'data', 'healthcare', 'apps', 'keep', 'a', 'watch', 'patients', 'emotional', 'food', 'intake', 'health', 'monitoring', 'omics', 'refers', 'collective', 'technologies', 'help', 'exploring', 'roles', 'relationships', 'various', 'branches', 'ending', 'suffix', 'omics', 'genomics', 'proteomics', 'etc', 'omicsbased', 'tests', 'based', 'machine', 'learning', 'algorithms', 'help', 'find', 'correlations', 'predict', 'treatment', 'responses', 'ultimately', 'creating', 'personalized', 'treatments', 'individual', 'patients', 'helps', 'psychology', 'neuro', 'patients', 'psychologists', 'studying', 'creativity', 'promising', 'classes', 'experiments', 'developing', 'data', 'structures', 'programs', 'exploring', 'novel', 'theories', 'a', 'horizon', 'studies', 'show', 'conduct', 'therapy', 'etherapy', 'assessments', 'autonomously', 'also', 'assisting', 'human', 'practitioners', 'detection', 'computational', 'analysis', 'psychological', 'signal', 'project', 'uses', 'ml', 'computer', 'vision', 'nlp', 'analyze', 'language', 'physical', 'gestures', 'social', 'signals', 'identify', 'cues', 'human', 'distress', 'groundbreaking', 'technology', 'assesses', 'soldiers', 'returning', 'combat', 'recognizes', 'require', 'mental', 'health', 'support', 'future', 'combine', 'data', 'captured', 'facetoface', 'interviews', 'information', 'sleeping', 'eating', 'online', 'behaviours', 'a', 'complete', 'patient', 'view', 'stroke', 'identification', 'stroke', 'another', 'frequently', 'occurring', 'disease', 'affects', 'people', 'worldwide', 'thrombus', 'vessel', 'cerebral', 'infarction', 'cause', 'stroke', 'occurrence', 'recent', 'years', 'techniques', 'used', 'numerous', 'strokerelated', 'studies', 'detection', 'timely', 'treatment', 'along', 'efficient', 'outcome', 'prediction', 'help', 'solve', 'problem', 'disposal', 'amounts', 'data', 'information', 'complications', 'reallife', 'clinical', 'questions', 'addressed', 'currently', 'ml', 'algorithms', 'genetic', 'fuzzy', 'finite', 'machine', 'pca', 'implemented', 'build', 'a', 'model', 'building', 'solution', 'include', 'a', 'human', 'activity', 'recognition', 'stage', 'a', 'stroke', 'onset', 'detection', 'stage', 'alert', 'stroke', 'message', 'activated', 'a', 'movement', 'significantly', 'different', 'normal', 'pattern', 'recorded', 'ml', 'methods', 'applied', 'neuroimaging', 'data', 'assist', 'disease', 'evaluation', 'predicting', 'stroke', 'treatment', 'diagnosis', 'patient', 'monitoring', 'today', 'market', 'aibased', 'patient', 'monitoring', 'impressive', 'monetarily', 'enticing', 'evolving', 'artificial', 'sensors', 'technologies', 'explores', 'everything', 'braincomputer', 'interfaces', 'nanorobotics', 'companies', 'smartwatches', 'engaged', 'people', 'perform', 'remote', 'monitoring', 'even', 'patients', 'obvious', 'start', 'wearable', 'embedded', 'sensors', 'glucose', 'monitors', 'pulse', 'monitors', 'oximeters', 'ecg', 'monitors', 'patient', 'monitoring', 'becoming', 'crucial', 'finds', 'numerous', 'applications', 'chronic', 'conditions', 'intensive', 'care', 'units', 'operating', 'rooms', 'emergency', 'rooms', 'cardiac', 'wards', 'timeless', 'clinical', 'decisionmaking', 'measured', 'seconds', 'advances', 'started', 'gain', 'traction', 'like', 'prosthetics', 'implants', 'play', 'impeccable', 'role', 'patient', 'management', 'postsurgery', 'rehabilitation', 'demographics', 'laboratory', 'results', 'vital', 'signs', 'also', 'used', 'predict', 'cardiac', 'arrest', 'transfer', 'intensive', 'care', 'unit', 'even', 'death', 'addition', 'interpretable', 'machinelearning', 'model', 'assist', 'anesthesiologists', 'predicting', 'hypoxaemia', 'events', 'surgery', 'suggests', 'deeplearning', 'algorithms', 'raw', 'patientmonitoring', 'data', 'could', 'better', 'used', 'avoid', 'information', 'overload', 'alert', 'overload', 'enabling', 'accurate', 'clinical', 'prediction', 'timely', 'decisionmaking', 'conclusion', 'considering', 'vast', 'tasks', 'evident', 'holds', 'deep', 'potential', 'improving', 'patient', 'outcomes', 'skyrocketing', 'levels', 'using', 'sophisticated', 'algorithms', 'bring', 'a', 'revolution', 'healthcare', 'sector', 'even', 'facing', 'challenges', 'like', 'whether', 'technology', 'able', 'deliver', 'promises', 'ethical', 'measures', 'training', 'physicians', 'use', 'standard', 'regulations', 'etc', 'role', 'transforming', 'clinical', 'practices', 'can', 'not', 'ignored', 'biggest', 'challenge', 'integration', 'practice', 'overcome', 'within', 'period', 'technologies', 'mature', 'making', 'system', 'far', 'enhanced', 'effective', 'blackcoffer', 'insights', 'sanskriti', 'sunderum', 'aayushi', 'nauhwar', 'srcc', 'university']]\n"
     ]
    }
   ],
   "source": [
    "\n",
    "token_text=token(Cleaned_stopwords['NewText'])\n",
    "print(token_text[0:1])"
   ]
  },
  {
   "cell_type": "code",
   "execution_count": 682,
   "metadata": {},
   "outputs": [],
   "source": [
    "def sentiment(data): \n",
    "    result=[]\n",
    "    for i in data:\n",
    "        clearpositive=[]\n",
    "        clearnegative=[]\n",
    "        for j in i:\n",
    "            if j in positive:\n",
    "                clearpositive.append(j)\n",
    "            elif j in negative:\n",
    "                clearnegative.append(j)\n",
    "        result.append({'positive': clearpositive,'negative':clearnegative})\n",
    "    return result\n"
   ]
  },
  {
   "cell_type": "code",
   "execution_count": 683,
   "metadata": {},
   "outputs": [],
   "source": [
    "analysis=sentiment(token_text)"
   ]
  },
  {
   "cell_type": "code",
   "execution_count": 684,
   "metadata": {},
   "outputs": [
    {
     "data": {
      "text/plain": [
       "114"
      ]
     },
     "execution_count": 684,
     "metadata": {},
     "output_type": "execute_result"
    }
   ],
   "source": [
    "len(analysis)"
   ]
  },
  {
   "cell_type": "code",
   "execution_count": 685,
   "metadata": {},
   "outputs": [],
   "source": [
    "positive_score=[]\n",
    "negative_score=[]\n",
    "for i in range(len(analysis)):\n",
    "    positive_score.append(len(analysis[i].get(\"positive\")))\n",
    "    negative_score.append(len(analysis[i].get(\"negative\")))"
   ]
  },
  {
   "cell_type": "code",
   "execution_count": 686,
   "metadata": {},
   "outputs": [
    {
     "data": {
      "text/plain": [
       "114"
      ]
     },
     "execution_count": 686,
     "metadata": {},
     "output_type": "execute_result"
    }
   ],
   "source": [
    "len(negative_score)"
   ]
  },
  {
   "cell_type": "code",
   "execution_count": 687,
   "metadata": {},
   "outputs": [
    {
     "name": "stdout",
     "output_type": "stream",
     "text": [
      "[32, 37, 35, 28, 28, 23, 11, 0, 13, 33, 57, 22, 29, 24, 21, 0, 39, 0, 5, 4, 0, 69, 14, 37, 3, 0, 9, 8, 9, 0, 37, 2, 18, 18, 37, 49, 23, 23, 7, 7, 6, 16, 72, 23, 43, 24, 80, 33, 13, 24, 49, 11, 47, 69, 3, 4, 31, 16, 33, 41, 41, 48, 28, 44, 3, 44, 24, 54, 35, 3, 3, 57, 26, 38, 33, 52, 36, 48, 44, 25, 78, 55, 14, 92, 64, 64, 84, 74, 18, 25, 93, 46, 29, 62, 32, 22, 33, 15, 7, 15, 6, 10, 23, 54, 48, 71, 24, 0, 16, 25, 10, 45, 4, 37]\n"
     ]
    }
   ],
   "source": [
    "print(negative_score)"
   ]
  },
  {
   "cell_type": "code",
   "execution_count": 688,
   "metadata": {},
   "outputs": [
    {
     "data": {
      "text/plain": [
       "114"
      ]
     },
     "execution_count": 688,
     "metadata": {},
     "output_type": "execute_result"
    }
   ],
   "source": [
    "len(positive_score)"
   ]
  },
  {
   "cell_type": "code",
   "execution_count": 689,
   "metadata": {},
   "outputs": [
    {
     "name": "stdout",
     "output_type": "stream",
     "text": [
      "[74, 69, 73, 81, 64, 53, 24, 0, 37, 74, 58, 41, 40, 61, 76, 26, 99, 28, 16, 5, 0, 34, 20, 67, 52, 9, 29, 27, 19, 5, 24, 7, 54, 11, 22, 32, 57, 40, 26, 46, 34, 43, 33, 63, 25, 36, 34, 52, 25, 39, 39, 34, 37, 29, 4, 41, 48, 56, 37, 18, 17, 40, 26, 23, 4, 26, 11, 28, 31, 6, 23, 37, 30, 9, 21, 28, 27, 48, 29, 27, 44, 40, 9, 49, 47, 40, 51, 55, 54, 18, 46, 31, 8, 24, 93, 30, 58, 11, 10, 1, 5, 6, 47, 21, 15, 48, 5, 0, 21, 27, 41, 32, 36, 45]\n"
     ]
    }
   ],
   "source": [
    "print(positive_score)"
   ]
  },
  {
   "cell_type": "code",
   "execution_count": 690,
   "metadata": {},
   "outputs": [],
   "source": [
    "#analysis"
   ]
  },
  {
   "cell_type": "code",
   "execution_count": 691,
   "metadata": {},
   "outputs": [],
   "source": [
    "URL['Positive_score']=positive_score"
   ]
  },
  {
   "cell_type": "code",
   "execution_count": 692,
   "metadata": {},
   "outputs": [],
   "source": [
    "URL['Negative_score']=negative_score"
   ]
  },
  {
   "cell_type": "code",
   "execution_count": 693,
   "metadata": {},
   "outputs": [
    {
     "data": {
      "text/html": [
       "<div>\n",
       "<style scoped>\n",
       "    .dataframe tbody tr th:only-of-type {\n",
       "        vertical-align: middle;\n",
       "    }\n",
       "\n",
       "    .dataframe tbody tr th {\n",
       "        vertical-align: top;\n",
       "    }\n",
       "\n",
       "    .dataframe thead th {\n",
       "        text-align: right;\n",
       "    }\n",
       "</style>\n",
       "<table border=\"1\" class=\"dataframe\">\n",
       "  <thead>\n",
       "    <tr style=\"text-align: right;\">\n",
       "      <th></th>\n",
       "      <th>URL_ID</th>\n",
       "      <th>URL</th>\n",
       "      <th>Positive_score</th>\n",
       "      <th>Negative_score</th>\n",
       "    </tr>\n",
       "  </thead>\n",
       "  <tbody>\n",
       "    <tr>\n",
       "      <th>0</th>\n",
       "      <td>37.0</td>\n",
       "      <td>https://insights.blackcoffer.com/ai-in-healthc...</td>\n",
       "      <td>74</td>\n",
       "      <td>32</td>\n",
       "    </tr>\n",
       "    <tr>\n",
       "      <th>1</th>\n",
       "      <td>38.0</td>\n",
       "      <td>https://insights.blackcoffer.com/what-if-the-c...</td>\n",
       "      <td>69</td>\n",
       "      <td>37</td>\n",
       "    </tr>\n",
       "    <tr>\n",
       "      <th>2</th>\n",
       "      <td>39.0</td>\n",
       "      <td>https://insights.blackcoffer.com/what-jobs-wil...</td>\n",
       "      <td>73</td>\n",
       "      <td>35</td>\n",
       "    </tr>\n",
       "    <tr>\n",
       "      <th>3</th>\n",
       "      <td>40.0</td>\n",
       "      <td>https://insights.blackcoffer.com/will-machine-...</td>\n",
       "      <td>81</td>\n",
       "      <td>28</td>\n",
       "    </tr>\n",
       "    <tr>\n",
       "      <th>4</th>\n",
       "      <td>41.0</td>\n",
       "      <td>https://insights.blackcoffer.com/will-ai-repla...</td>\n",
       "      <td>64</td>\n",
       "      <td>28</td>\n",
       "    </tr>\n",
       "  </tbody>\n",
       "</table>\n",
       "</div>"
      ],
      "text/plain": [
       "   URL_ID                                                URL  Positive_score  \\\n",
       "0    37.0  https://insights.blackcoffer.com/ai-in-healthc...              74   \n",
       "1    38.0  https://insights.blackcoffer.com/what-if-the-c...              69   \n",
       "2    39.0  https://insights.blackcoffer.com/what-jobs-wil...              73   \n",
       "3    40.0  https://insights.blackcoffer.com/will-machine-...              81   \n",
       "4    41.0  https://insights.blackcoffer.com/will-ai-repla...              64   \n",
       "\n",
       "   Negative_score  \n",
       "0              32  \n",
       "1              37  \n",
       "2              35  \n",
       "3              28  \n",
       "4              28  "
      ]
     },
     "execution_count": 693,
     "metadata": {},
     "output_type": "execute_result"
    }
   ],
   "source": [
    "URL.head()"
   ]
  },
  {
   "attachments": {},
   "cell_type": "markdown",
   "metadata": {},
   "source": [
    "Polarity Score = (Positive Score – Negative Score)/ ((Positive Score + Negative Score) + 0.000001)"
   ]
  },
  {
   "cell_type": "code",
   "execution_count": 694,
   "metadata": {},
   "outputs": [
    {
     "name": "stdout",
     "output_type": "stream",
     "text": [
      "[0.3962264113563546, 0.3018867896048416, 0.3518518485939644, 0.48623852764918785, 0.3913043435727789, 0.3947368369113574, 0.37142856081632686, 0.0, 0.47999999040000024, 0.3831775665123592, 0.008695652098298678, 0.30158729680020163, 0.15942028754463353, 0.4352941125259516, 0.5670103034328835, 0.9999999615384629, 0.4347826055450536, 0.9999999642857155, 0.5238094988662143, 0.11111109876543349, 0.0, -0.3398058219436328, 0.17647058304498286, 0.28846153568786986, 0.8909090747107441, 0.9999998888889013, 0.5263157756232691, 0.5428571273469392, 0.35714284438775556, 0.99999980000004, -0.21311475060467622, 0.5555554938271674, 0.49999999305555565, -0.24137930202140337, -0.25423728382648675, -0.20987654061880814, 0.4249999946875001, 0.26984126555807514, 0.5757575583103771, 0.7358490427198294, 0.6999999825000005, 0.4576271108876761, -0.3714285678911565, 0.4651162736614387, -0.26470587846020766, 0.19999999666666674, -0.403508768390274, 0.22352940913494815, 0.31578946537396146, 0.23809523431594867, -0.11363636234504133, 0.5111110997530867, -0.1190476176303855, -0.4081632611411912, 0.1428571224489825, 0.8222222039506177, 0.2151898706937991, 0.5555555478395063, 0.05714285632653063, -0.38983050186727963, -0.41379309631391215, -0.09090908987603308, -0.037037036351165994, -0.3134328311427936, 0.1428571224489825, -0.2571428534693878, -0.37142856081632686, -0.3170731668649614, -0.06060605968778698, 0.33333329629630043, 0.7692307396449716, -0.2127659551833409, 0.07142857015306125, -0.6170212634676328, -0.22222221810699597, -0.29999999625000007, -0.1428571405895692, 0.0, -0.20547944924000755, 0.03846153772189351, -0.2786885223058318, -0.15789473518005542, -0.21739129489603065, -0.30496453684422314, -0.15315315177339503, -0.23076922855029589, -0.24444444263374487, -0.14728682056366807, 0.49999999305555565, -0.16279069388858852, -0.3381294939702914, -0.19480519227525725, -0.567567552227904, -0.44186045997836676, 0.48799999609600003, 0.15384615088757403, 0.2747252717063157, -0.15384614792899431, 0.17647057785467188, -0.8749999453125034, -0.09090908264462885, -0.24999998437500096, 0.34285713795918377, -0.4399999941333334, -0.523809515495087, -0.19327730930019069, -0.655172391200952, 0.0, 0.1351351314828343, 0.03846153772189351, 0.6078431253364094, -0.1688311666385563, 0.7999999800000005, 0.09756097441998812]\n"
     ]
    },
    {
     "data": {
      "text/html": [
       "<div>\n",
       "<style scoped>\n",
       "    .dataframe tbody tr th:only-of-type {\n",
       "        vertical-align: middle;\n",
       "    }\n",
       "\n",
       "    .dataframe tbody tr th {\n",
       "        vertical-align: top;\n",
       "    }\n",
       "\n",
       "    .dataframe thead th {\n",
       "        text-align: right;\n",
       "    }\n",
       "</style>\n",
       "<table border=\"1\" class=\"dataframe\">\n",
       "  <thead>\n",
       "    <tr style=\"text-align: right;\">\n",
       "      <th></th>\n",
       "      <th>URL_ID</th>\n",
       "      <th>URL</th>\n",
       "      <th>Positive_score</th>\n",
       "      <th>Negative_score</th>\n",
       "      <th>Polarity_score</th>\n",
       "    </tr>\n",
       "  </thead>\n",
       "  <tbody>\n",
       "    <tr>\n",
       "      <th>0</th>\n",
       "      <td>37.0</td>\n",
       "      <td>https://insights.blackcoffer.com/ai-in-healthc...</td>\n",
       "      <td>74</td>\n",
       "      <td>32</td>\n",
       "      <td>0.396226</td>\n",
       "    </tr>\n",
       "    <tr>\n",
       "      <th>1</th>\n",
       "      <td>38.0</td>\n",
       "      <td>https://insights.blackcoffer.com/what-if-the-c...</td>\n",
       "      <td>69</td>\n",
       "      <td>37</td>\n",
       "      <td>0.301887</td>\n",
       "    </tr>\n",
       "    <tr>\n",
       "      <th>2</th>\n",
       "      <td>39.0</td>\n",
       "      <td>https://insights.blackcoffer.com/what-jobs-wil...</td>\n",
       "      <td>73</td>\n",
       "      <td>35</td>\n",
       "      <td>0.351852</td>\n",
       "    </tr>\n",
       "    <tr>\n",
       "      <th>3</th>\n",
       "      <td>40.0</td>\n",
       "      <td>https://insights.blackcoffer.com/will-machine-...</td>\n",
       "      <td>81</td>\n",
       "      <td>28</td>\n",
       "      <td>0.486239</td>\n",
       "    </tr>\n",
       "    <tr>\n",
       "      <th>4</th>\n",
       "      <td>41.0</td>\n",
       "      <td>https://insights.blackcoffer.com/will-ai-repla...</td>\n",
       "      <td>64</td>\n",
       "      <td>28</td>\n",
       "      <td>0.391304</td>\n",
       "    </tr>\n",
       "  </tbody>\n",
       "</table>\n",
       "</div>"
      ],
      "text/plain": [
       "   URL_ID                                                URL  Positive_score  \\\n",
       "0    37.0  https://insights.blackcoffer.com/ai-in-healthc...              74   \n",
       "1    38.0  https://insights.blackcoffer.com/what-if-the-c...              69   \n",
       "2    39.0  https://insights.blackcoffer.com/what-jobs-wil...              73   \n",
       "3    40.0  https://insights.blackcoffer.com/will-machine-...              81   \n",
       "4    41.0  https://insights.blackcoffer.com/will-ai-repla...              64   \n",
       "\n",
       "   Negative_score  Polarity_score  \n",
       "0              32        0.396226  \n",
       "1              37        0.301887  \n",
       "2              35        0.351852  \n",
       "3              28        0.486239  \n",
       "4              28        0.391304  "
      ]
     },
     "execution_count": 694,
     "metadata": {},
     "output_type": "execute_result"
    }
   ],
   "source": [
    "Polarity_score=[]\n",
    "for i in range(114):\n",
    "    Polarity_score.append((positive_score[i] - negative_score[i])/((positive_score[i] + negative_score[i]) + 0.000001))\n",
    "print(Polarity_score)\n",
    "URL['Polarity_score']=Polarity_score\n",
    "URL.head()\n"
   ]
  },
  {
   "attachments": {},
   "cell_type": "markdown",
   "metadata": {},
   "source": [
    "Subjectivity Score = (Positive Score + Negative Score)/ ((Total Words after cleaning) + 0.000001)"
   ]
  },
  {
   "cell_type": "code",
   "execution_count": 695,
   "metadata": {},
   "outputs": [
    {
     "name": "stdout",
     "output_type": "stream",
     "text": [
      "[0.09760589309612716, 0.14825174804440314, 0.11134020607078329, 0.13244228416471168, 0.09766454342073827, 0.11046511611851001, 0.09020618533452014, 0.0, 0.12987012953280486, 0.09536541880983473, 0.10087719289396736, 0.09224011699525606, 0.09857142843061224, 0.10403916755931558, 0.11252900218964153, 0.08813559292157426, 0.15717539845424214, 0.05214152690476438, 0.048837209188750674, 0.04864864838568298, 0.0, 0.1409028725842642, 0.09239130409676276, 0.11194833141878544, 0.1413881744437322, 0.03982300867334952, 0.06099518449278461, 0.09308510613541195, 0.14141414069992858, 0.051546391221171224, 0.14087759782707251, 0.08333333256172841, 0.10449927415892703, 0.09897610887721464, 0.10350877174823023, 0.08490566028835884, 0.09445100343040023, 0.08479138615775049, 0.08684210503462604, 0.07817109133013113, 0.16393442555764579, 0.07142857134209617, 0.20309477717002944, 0.15439856345709413, 0.10477657919140743, 0.07490636694768243, 0.20917431154279942, 0.11486486470964208, 0.0945273629489369, 0.09707241895674512, 0.09810479364759778, 0.02929687498092651, 0.09312638570606831, 0.10663764950311463, 0.08333333234126986, 0.08538899414537193, 0.091013824779938, 0.07675906175185601, 0.12110726622645802, 0.06276595738003622, 0.11372548997308728, 0.13902053690518082, 0.0942408375318659, 0.09557774594068795, 0.0804597691901176, 0.12323943640274747, 0.10233918098731233, 0.1318327972157029, 0.1254752849325565, 0.040540540357925495, 0.08099688448287574, 0.16607773822247748, 0.17665615086228345, 0.08834586449559048, 0.09944751362901011, 0.13840830425880915, 0.0925110130800132, 0.11999999985, 0.07533539723907595, 0.12621359192666604, 0.11810261363204005, 0.15297906577620118, 0.11917098383849231, 0.12165660041272078, 0.15081521718639238, 0.11685393245297311, 0.14255543807544305, 0.11889400910701012, 0.07851690285876019, 0.09953703680662723, 0.15977011475888492, 0.14206642040209147, 0.10787171980212326, 0.09398907093553108, 0.12425447303752041, 0.07123287661474949, 0.15242881046494336, 0.11818181764462811, 0.09497206650853594, 0.08791208742905447, 0.09821428483737246, 0.12598425097650195, 0.19553072571080804, 0.13940520420184907, 0.13070539391969835, 0.12659574454617473, 0.08787878761248852, 0.0, 0.07613168708614879, 0.099616858046711, 0.06227106219502923, 0.11240875895998721, 0.0947867296332068, 0.13874788470601035]\n"
     ]
    },
    {
     "data": {
      "text/html": [
       "<div>\n",
       "<style scoped>\n",
       "    .dataframe tbody tr th:only-of-type {\n",
       "        vertical-align: middle;\n",
       "    }\n",
       "\n",
       "    .dataframe tbody tr th {\n",
       "        vertical-align: top;\n",
       "    }\n",
       "\n",
       "    .dataframe thead th {\n",
       "        text-align: right;\n",
       "    }\n",
       "</style>\n",
       "<table border=\"1\" class=\"dataframe\">\n",
       "  <thead>\n",
       "    <tr style=\"text-align: right;\">\n",
       "      <th></th>\n",
       "      <th>URL_ID</th>\n",
       "      <th>URL</th>\n",
       "      <th>Positive_score</th>\n",
       "      <th>Negative_score</th>\n",
       "      <th>Polarity_score</th>\n",
       "      <th>Subjective_score</th>\n",
       "    </tr>\n",
       "  </thead>\n",
       "  <tbody>\n",
       "    <tr>\n",
       "      <th>0</th>\n",
       "      <td>37.0</td>\n",
       "      <td>https://insights.blackcoffer.com/ai-in-healthc...</td>\n",
       "      <td>74</td>\n",
       "      <td>32</td>\n",
       "      <td>0.396226</td>\n",
       "      <td>0.097606</td>\n",
       "    </tr>\n",
       "    <tr>\n",
       "      <th>1</th>\n",
       "      <td>38.0</td>\n",
       "      <td>https://insights.blackcoffer.com/what-if-the-c...</td>\n",
       "      <td>69</td>\n",
       "      <td>37</td>\n",
       "      <td>0.301887</td>\n",
       "      <td>0.148252</td>\n",
       "    </tr>\n",
       "    <tr>\n",
       "      <th>2</th>\n",
       "      <td>39.0</td>\n",
       "      <td>https://insights.blackcoffer.com/what-jobs-wil...</td>\n",
       "      <td>73</td>\n",
       "      <td>35</td>\n",
       "      <td>0.351852</td>\n",
       "      <td>0.111340</td>\n",
       "    </tr>\n",
       "    <tr>\n",
       "      <th>3</th>\n",
       "      <td>40.0</td>\n",
       "      <td>https://insights.blackcoffer.com/will-machine-...</td>\n",
       "      <td>81</td>\n",
       "      <td>28</td>\n",
       "      <td>0.486239</td>\n",
       "      <td>0.132442</td>\n",
       "    </tr>\n",
       "    <tr>\n",
       "      <th>4</th>\n",
       "      <td>41.0</td>\n",
       "      <td>https://insights.blackcoffer.com/will-ai-repla...</td>\n",
       "      <td>64</td>\n",
       "      <td>28</td>\n",
       "      <td>0.391304</td>\n",
       "      <td>0.097665</td>\n",
       "    </tr>\n",
       "  </tbody>\n",
       "</table>\n",
       "</div>"
      ],
      "text/plain": [
       "   URL_ID                                                URL  Positive_score  \\\n",
       "0    37.0  https://insights.blackcoffer.com/ai-in-healthc...              74   \n",
       "1    38.0  https://insights.blackcoffer.com/what-if-the-c...              69   \n",
       "2    39.0  https://insights.blackcoffer.com/what-jobs-wil...              73   \n",
       "3    40.0  https://insights.blackcoffer.com/will-machine-...              81   \n",
       "4    41.0  https://insights.blackcoffer.com/will-ai-repla...              64   \n",
       "\n",
       "   Negative_score  Polarity_score  Subjective_score  \n",
       "0              32        0.396226          0.097606  \n",
       "1              37        0.301887          0.148252  \n",
       "2              35        0.351852          0.111340  \n",
       "3              28        0.486239          0.132442  \n",
       "4              28        0.391304          0.097665  "
      ]
     },
     "execution_count": 695,
     "metadata": {},
     "output_type": "execute_result"
    }
   ],
   "source": [
    "Subjective_score=[]\n",
    "for i in range(114):\n",
    "    Subjective_score.append((positive_score[i] + negative_score[i])/ ((len(token_text[i]) + 0.000001)))\n",
    "print(Subjective_score)\n",
    "URL['Subjective_score']=Subjective_score\n",
    "URL.head()\n"
   ]
  },
  {
   "cell_type": "code",
   "execution_count": 759,
   "metadata": {},
   "outputs": [
    {
     "name": "stdout",
     "output_type": "stream",
     "text": [
      "[182, 190, 183, 166, 185, 148, 90, 0, 64, 186, 241, 107, 148, 126, 169, 55, 25, 105, 92, 33, 0, 129, 78, 209, 81, 31, 110, 60, 47, 19, 99, 21, 139, 56, 74, 196, 132, 188, 102, 131, 42, 160, 116, 120, 81, 155, 122, 116, 64, 109, 162, 358, 143, 141, 17, 104, 178, 180, 111, 166, 111, 124, 70, 132, 17, 101, 93, 74, 90, 48, 67, 109, 63, 113, 116, 118, 131, 120, 138, 36, 191, 125, 36, 182, 98, 174, 164, 198, 181, 80, 165, 116, 74, 94, 177, 147, 94, 43, 31, 46, 32, 31, 81, 89, 96, 140, 54, 0, 62, 86, 150, 112, 57, 103]\n"
     ]
    }
   ],
   "source": [
    "txt = \"Hello, welcome to my world.\"\n",
    "a=(',','.','?','!')\n",
    "Sentence_Count=[]\n",
    "\n",
    "for i in Text_Data['AllText']:\n",
    "        count=0\n",
    "        for j in i:\n",
    "                if j.endswith(a)==True:\n",
    "                        count=count+1   \n",
    "        Sentence_Count.append(count)\n",
    "print(Sentence_Count)"
   ]
  },
  {
   "cell_type": "code",
   "execution_count": 760,
   "metadata": {},
   "outputs": [
    {
     "data": {
      "text/plain": [
       "114"
      ]
     },
     "execution_count": 760,
     "metadata": {},
     "output_type": "execute_result"
    }
   ],
   "source": [
    "len(Sentence_Count)"
   ]
  },
  {
   "cell_type": "code",
   "execution_count": 745,
   "metadata": {},
   "outputs": [
    {
     "data": {
      "text/plain": [
       "'AI in healthcare to Improve Patient Outcomes  Introduction “If anything kills over 10 million people in the next few decades, it will be a highly infectious virus rather than a war. Not missiles but microbes.” Bill Gates’s remarks at a TED conference in 2014, right after the world had avoided the Ebola outbreak. When the new, unprecedented, invisible virus hit us, it met an overwhelmed and unprepared healthcare system and oblivious population. This public health emergency demonstrated our lack of scientific consideration and underlined the alarming need for robust innovations in our health and medical facilities. For the past few years, artificial intelligence has proven to be of tangible potential in the healthcare sectors, clinical practices, translational medical and biomedical research. After the first case was detected in China on December 31st 2019, it was an AI program developed by BlueDot that alerted the world about the pandemic. It was quick to realise AI’s ability to analyse large chunks of data could help in detecting patterns and identifying and tracking the possible carriers of the virus. Many tracing apps use AI to keep tabs on the people who have been infected and prevent the risk of cross-infection by using AI algorithms that can track patterns and extract some features to classify or categorise them. So how does AI do that? IBM Watson, a sophisticated AI that works on cloud computing and natural language processing, has prominently contributed to the healthcare sector on a global level. Being a conversational AI, since 2013, Watson has helped in recommending treatments to patients suffering from cancer to ensure that they get the best treatment at optimum costs.  Researchers at Google Inc. showed that an AI system can be trained on thousands of images to achieve physician-level sensitivity. By identifying the molecular patterns associated with disease status and its subtypes, gene expression, and protein abundance levels, machine learning methods can detect fatal diseases like cancer at an early stage. Machine Learning (ML) techniques focus mainly on analyzing structured data, which can further help in clustering patients’ traits and infer the probability of disease outcomes. Since patient traits mainly include masses of data relating to age, gender, disease history, disease-specific data like diagnostic imaging and gene expressions, etc, ML can extract features from these data inputs by constructing data analytical algorithms. ML algorithms are either supervised or unsupervised. Unsupervised learning helps in extracting features and clustering similar features together that further leads to early detection of diseases. Clustering and principal component analysis enable grouping or clustering of similar traits together that are further used to maximize or minimize the similarity between the patients within or between the clusters. Since patient traits are recorded in multiple dimensions, such as genes, principal component analysis(PCA) creates the apparatus to reduce these dimensions which humans could have not done alone. Supervised learning considers the outcomes of the subjects together with the traits, and further correlates the inputs with the outputs to predict the probability of getting a particular clinical event, expected value of a disease level or expected survival time, or risk of Down’s syndrome. Biomarker panels that are mostly used to detect ovarian cancer, have outperformed the conventional statistical methods due to machine learning. In addition to this, the use of EHRs and Bayesian networks, which are a part of supervised machine learning algorithms, can predict clinical outcomes and mortality respectively. Unstructured data such as clinical notes and texts are converted into machine-readable structured data with the help of natural language processing(NLP). NLP works with two components: text processing and classification. Text processing helps in identifying a series of disease-relevant keywords in clinical notes and then through classification are further categorized into normal and abnormal cases. Chest screening through ML and NLP has helped find abnormalities in the lungs and provide treatment to covid patients. Healthcare organizations use NLP-based chatbots to increase interactions with patients, keeping their mental health and wellness in check. Deep learning is a modern extension of the classical neural network techniques which helps explore more complex non-linear patterns in data, using algorithms like convolution neural network, recurrent neural network, deep belief network, and deep neural network which enables more accurate clinical prediction. When it comes to genome interpretation, deep neural networks surpass the conventional methods of logistics regression and support vector machines. Sepsis Watch is an AI system trained in deep learning algorithms that holds the capability to analyze over 32 million data points to create a patient’s risk score and identify the early stages of sepsis. Another method known as the Learning-based Optimization of the Under Sampling Pattern( LOUPE) is based on integrating full resolution MRI scans with the convolutional neural network algorithm, which helps in creating more accurate reconstructions. Robotic surgery is widely considered in most delicate surgeries like gynaecology and prostate surgery. Even after striking the right balance between human decisions and AI precision, robotic surgery reduces surgeon efficiency as they have to be manually operated through a console. Thus, autonomous robotic surgery is on the rise with inventions such as robotic silicon fingers that mimic the sense of touch that surgeons need to identify organs, cut tissues, etc., or robotic catheters that can navigate whether it is touching blood, tissue, or valve. Researchers at Children’s National Hospital, Washington have already developed an AI called Smart Tissue Autonomous Robot (STAR), which performs a colon anastomosis on its own with the help of an ML-powered suturing tool, that automatically detects the patient’s breathing pattern to apply suture at the correct point. An image of STAR during surgery. Cloud computing in healthcare has helped in retrieving and sharing medical records safely with a reduction in maintenance costs. Through this technology doctors and various healthcare workers have access to detailed patient data that helps in speeding up analysis ultimately leading to better care in the form of more accurate information, medications, and therapies. How can It help in Biomedical research? Since AI can analyze literature beyond readability, it can be used to concise biomedical research. With the help of ML algorithms and NLP, AI can accelerate screening and indexing of biomedical research, by ranking the literature of interest which allows researchers to formulate and test scientific hypotheses far more precisely and quickly. Taking it to the next level, AI systems like the computational modelling assistant (CMA) helps researchers to construct simulation models from the concepts they have in mind. Such innovations have majorly contributed to topics such as tumour suppressor mechanisms and protein-protein interaction information extraction. AI as precision medicine Since precision medicine focuses on healthcare interventions to individuals or groups of patients based on their profile, the various AI devices pave the way to practice it more efficiently. With the help of ML, complex algorithms like large datasets can be used to predict and create an optimal treatment strategy. Deep learning and neural networks can be used to process data in healthcare apps and keep a close watch on the patient’s emotional state, food intake, or health monitoring.\\xa0 “Omics” refers to the collective technologies that help in exploring the roles, relationships of various branches ending with the suffix “omics” such as genomics, proteomics, etc. Omics-based tests based on machine learning algorithms help find correlations and predict treatment responses, ultimately creating personalized treatments for individual patients.\\xa0 How it helps in psychology and neuro patients For psychologists studying creativity,\\xa0 AI is promising new classes of experiments that are developing data structures and programs and exploring novel theories on a new horizon. Studies show that \\xa0AI can conduct therapy sessions, e-therapy sessions, and assessments autonomously, also assisting human practitioners before, during, or after sessions. The Detection and Computational Analysis of Psychological Signal project uses ML, computer vision, and NLP to analyze language, physical gestures, and social signals to identify cues for human distress. This ground-breaking technology assesses soldiers returning from combat and recognizes those who require further mental health support. In the future, it will combine data captured during face-to-face interviews with information on sleeping, eating, and online behaviours for a complete patient view. Stroke identification Stroke is another frequently occurring disease that affects more than 500 million people worldwide. Thrombus,\\xa0 in the vessel cerebral infarction is the major (about 85%) cause of stroke occurrence. In recent years, AI techniques have been used in numerous stroke-related studies as early detection and timely treatment along with efficient outcome prediction can help solve the problem. With AI at our disposal, large amounts of data with rich information, more complications and real-life clinical questions can be addressed in this arena. Currently, two ML algorithms- genetic fuzzy finite state machine and PCA were implemented to build a model building solution. These include a human activity recognition stage and a stroke onset detection stage. An alert stroke message is activated as soon as a movement significantly different from the normal pattern is recorded. ML methods have been applied to neuroimaging data to assist disease evaluation and predicting stroke treatment for the diagnosis. Patient Monitoring Today, the market for AI-based patient monitoring is impressive and monetarily enticing. It is evolving with artificial sensors, smart technologies and explores everything from brain-computer interfaces to nanorobotics. Companies with their smart-watches have engaged people to perform remote monitoring even when they are not “patients”. An obvious place to start is with wearable and embedded sensors, glucose monitors, pulse monitors, oximeters, and ECG monitors. With patient monitoring becoming crucial, AI finds numerous applications in chronic conditions, intensive care units, operating rooms, emergency rooms, and cardiac wards where timeless clinical decision-making can be measured in seconds. More advances have started to gain traction like smart prosthetics and implants. These play an impeccable role in patient management post-surgery or rehabilitation. Demographics, laboratory results and vital signs can also be used to predict cardiac arrest, transfer into the intensive care unit, or even death. In addition, an interpretable machine-learning model can assist anesthesiologists in predicting hypoxaemia events during surgery. This suggests that with deep-learning algorithms, raw patient-monitoring data could be better used to avoid information overload and alert overload while enabling more accurate clinical prediction and timely decision-making.  \\xa0Conclusion Considering the vast range of tasks that an AI can do, it is evident that it holds deep potential in improving patient outcomes to skyrocketing levels. Using sophisticated algorithms AI can bring a revolution in the healthcare sector. Even after facing challenges like whether the technology will be able to deliver the promises, ethical measures, training physicians to use it, standard regulations etc, the role of AI in transforming the clinical practices cannot be ignored. The biggest challenge is the integration of AI in daily practice. All of these can be overcome and within that period the technologies will mature making the system far more enhanced and effective. Blackcoffer Insights 29: Sanskriti Sunderum and Aayushi Nauhwar, SRCC, Delhi University '"
      ]
     },
     "execution_count": 745,
     "metadata": {},
     "output_type": "execute_result"
    }
   ],
   "source": [
    "Text_Data['AllText'][0]"
   ]
  },
  {
   "cell_type": "code",
   "execution_count": 729,
   "metadata": {},
   "outputs": [
    {
     "name": "stdout",
     "output_type": "stream",
     "text": [
      "<class 'str'>\n"
     ]
    }
   ],
   "source": [
    "Text_Data['AllText'][0]print(type())"
   ]
  },
  {
   "cell_type": "code",
   "execution_count": 730,
   "metadata": {},
   "outputs": [
    {
     "name": "stdout",
     "output_type": "stream",
     "text": [
      "<class 'str'>\n",
      "<class 'str'>\n",
      "<class 'str'>\n",
      "<class 'str'>\n",
      "<class 'str'>\n",
      "<class 'str'>\n",
      "<class 'str'>\n",
      "<class 'str'>\n",
      "<class 'str'>\n",
      "<class 'str'>\n",
      "<class 'str'>\n",
      "<class 'str'>\n",
      "<class 'str'>\n",
      "<class 'str'>\n",
      "<class 'str'>\n",
      "<class 'str'>\n",
      "<class 'str'>\n",
      "<class 'str'>\n",
      "<class 'str'>\n",
      "<class 'str'>\n",
      "<class 'str'>\n",
      "<class 'str'>\n",
      "<class 'str'>\n",
      "<class 'str'>\n",
      "<class 'str'>\n",
      "<class 'str'>\n",
      "<class 'str'>\n",
      "<class 'str'>\n",
      "<class 'str'>\n",
      "<class 'str'>\n",
      "<class 'str'>\n",
      "<class 'str'>\n",
      "<class 'str'>\n",
      "<class 'str'>\n",
      "<class 'str'>\n",
      "<class 'str'>\n",
      "<class 'str'>\n",
      "<class 'str'>\n",
      "<class 'str'>\n",
      "<class 'str'>\n",
      "<class 'str'>\n",
      "<class 'str'>\n",
      "<class 'str'>\n",
      "<class 'str'>\n",
      "<class 'str'>\n",
      "<class 'str'>\n",
      "<class 'str'>\n",
      "<class 'str'>\n",
      "<class 'str'>\n",
      "<class 'str'>\n",
      "<class 'str'>\n",
      "<class 'str'>\n",
      "<class 'str'>\n",
      "<class 'str'>\n",
      "<class 'str'>\n",
      "<class 'str'>\n",
      "<class 'str'>\n",
      "<class 'str'>\n",
      "<class 'str'>\n",
      "<class 'str'>\n",
      "<class 'str'>\n",
      "<class 'str'>\n",
      "<class 'str'>\n",
      "<class 'str'>\n",
      "<class 'str'>\n",
      "<class 'str'>\n",
      "<class 'str'>\n",
      "<class 'str'>\n",
      "<class 'str'>\n",
      "<class 'str'>\n",
      "<class 'str'>\n",
      "<class 'str'>\n",
      "<class 'str'>\n",
      "<class 'str'>\n",
      "<class 'str'>\n",
      "<class 'str'>\n",
      "<class 'str'>\n",
      "<class 'str'>\n",
      "<class 'str'>\n",
      "<class 'str'>\n",
      "<class 'str'>\n",
      "<class 'str'>\n",
      "<class 'str'>\n",
      "<class 'str'>\n",
      "<class 'str'>\n",
      "<class 'str'>\n",
      "<class 'str'>\n",
      "<class 'str'>\n",
      "<class 'str'>\n",
      "<class 'str'>\n",
      "<class 'str'>\n",
      "<class 'str'>\n",
      "<class 'str'>\n",
      "<class 'str'>\n",
      "<class 'str'>\n",
      "<class 'str'>\n",
      "<class 'str'>\n",
      "<class 'str'>\n",
      "<class 'str'>\n",
      "<class 'str'>\n",
      "<class 'str'>\n",
      "<class 'str'>\n",
      "<class 'str'>\n",
      "<class 'str'>\n",
      "<class 'str'>\n",
      "<class 'str'>\n",
      "<class 'str'>\n",
      "<class 'str'>\n",
      "<class 'str'>\n",
      "<class 'str'>\n",
      "<class 'str'>\n",
      "<class 'str'>\n",
      "<class 'str'>\n",
      "<class 'str'>\n"
     ]
    }
   ],
   "source": [
    "for i in Text_Data['AllText']:\n",
    "    print(type(i))"
   ]
  },
  {
   "cell_type": "code",
   "execution_count": null,
   "metadata": {},
   "outputs": [],
   "source": []
  }
 ],
 "metadata": {
  "kernelspec": {
   "display_name": "base",
   "language": "python",
   "name": "python3"
  },
  "language_info": {
   "codemirror_mode": {
    "name": "ipython",
    "version": 3
   },
   "file_extension": ".py",
   "mimetype": "text/x-python",
   "name": "python",
   "nbconvert_exporter": "python",
   "pygments_lexer": "ipython3",
   "version": "3.9.12"
  },
  "orig_nbformat": 4,
  "vscode": {
   "interpreter": {
    "hash": "acaca7c460b7276e9d718c0f7bd9ad3afd00acc4d587fd2e7bfbe20f9ae8655f"
   }
  }
 },
 "nbformat": 4,
 "nbformat_minor": 2
}
